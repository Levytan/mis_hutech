{
 "cells": [
  {
   "cell_type": "markdown",
   "metadata": {
    "id": "kNlWJUt_qpkk"
   },
   "source": [
    "# Giới thiệu\n",
    "Dữ liệu cho phần thực hành này là bình chọn của người dùng đối với các bộ phim được tổng hợp từ IMDB và được lưu trong file [`imdb.csv`](https://drive.google.com/file/d/1fve1AJj9ldRURi5wlLksbhXrh2-20guw/view?usp=sharing). Dữ liệu bao gồm các cột:\n",
    "* `tconst`: id của phim.\n",
    "* `title_type`: phân loại phim.\n",
    "* `title`: tựa phim.\n",
    "* `start`: năm bắt đầu phát sóng.\n",
    "* `genres`: thể loại phim.\n",
    "* `rating`: điểm bình chọn trung bình của người dùng IMDB.\n",
    "* `num_votes`: số lượng bình chọn."
   ]
  },
  {
   "cell_type": "markdown",
   "metadata": {},
   "source": [
    "Sinh viên lưu bài dưới tên `MSSV_Họ_tên.ipynb`.\n",
    "\n",
    "Nộp bài tại: https://forms.gle/oLVdPRm1znTfdmnR7"
   ]
  },
  {
   "cell_type": "markdown",
   "metadata": {
    "id": "cOuK98GWsEBB"
   },
   "source": [
    "# Thực hành\n",
    "1. Đọc dữ liệu từ vào DataFrame.\n",
    "2. Có bao nhiêu bộ phim trong dữ liệu trên.\n",
    "3. Có bao nhiêu phân loại phim, in các phân loại đó.\n",
    "4. Tính hệ số tương quan giữa `rating` và `num_votes`.\n",
    "5. Lấy ra tất cả phim có phân loại `'movie'` và lưu thành DataFrame, đặt tên là `movies`.\n",
    "6. Tính tỷ lệ phần trăm giữa số lượng `'movie'` và số lượng phim.\n",
    "7. Sử dụng phương thức `.explode()` để tách giá trị trong cột `genres` của `movies`. *Lưu ý*: kiểu dữ liệu của cột `genres` không thích hợp để sử dụng `.explode()` ngay lập tức. \n",
    "8. Có bao nhiêu thể loại phim khác nhau?\n",
    "9. Tính điểm trung bình của mỗi thể loại phim.\n",
    "10. Tính hệ số tương quan giữa điểm trung bình thể loại phim và tổng số người đánh giá thể loại phim đó. \n"
   ]
  },
  {
   "cell_type": "code",
   "execution_count": null,
   "metadata": {},
   "outputs": [],
   "source": []
  }
 ],
 "metadata": {
  "colab": {
   "provenance": []
  },
  "kernelspec": {
   "display_name": "Python 3 (ipykernel)",
   "language": "python",
   "name": "python3"
  },
  "language_info": {
   "codemirror_mode": {
    "name": "ipython",
    "version": 3
   },
   "file_extension": ".py",
   "mimetype": "text/x-python",
   "name": "python",
   "nbconvert_exporter": "python",
   "pygments_lexer": "ipython3",
   "version": "3.13.3"
  }
 },
 "nbformat": 4,
 "nbformat_minor": 4
}
