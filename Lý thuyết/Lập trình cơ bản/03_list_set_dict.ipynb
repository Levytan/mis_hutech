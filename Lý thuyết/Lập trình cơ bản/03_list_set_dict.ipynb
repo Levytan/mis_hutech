{
 "cells": [
  {
   "cell_type": "markdown",
   "metadata": {
    "colab_type": "text",
    "id": "9hq2MeZAJ_Ks",
    "slideshow": {
     "slide_type": "slide"
    }
   },
   "source": [
    "# Giới thiệu\n",
    "\n",
    "Trong bài học này chúng ta sẽ học về các kiểu dữ liệu `list`, `set` và `dictionary` trong python."
   ]
  },
  {
   "cell_type": "markdown",
   "metadata": {
    "colab_type": "text",
    "id": "li-MGUM2KpPi",
    "slideshow": {
     "slide_type": "slide"
    }
   },
   "source": [
    "# Kiểu dữ liệu `list`"
   ]
  },
  {
   "cell_type": "markdown",
   "metadata": {
    "colab_type": "text",
    "id": "xDi1B8sGLG0E",
    "slideshow": {
     "slide_type": "slide"
    }
   },
   "source": [
    "## Giới thiệu\n",
    "`list` là kiểu dữ liệu cơ bản của python với cấu trúc :\n",
    "```\n",
    "[phần_tử_0, phần_tử_1, ..., phần_tử_n]\n",
    "```"
   ]
  },
  {
   "cell_type": "code",
   "execution_count": 1,
   "metadata": {
    "colab": {
     "base_uri": "https://localhost:8080/",
     "height": 34
    },
    "colab_type": "code",
    "id": "wuq79QHkJXqx",
    "outputId": "d5115505-c05f-4861-9b11-355790281f38",
    "slideshow": {
     "slide_type": "subslide"
    }
   },
   "outputs": [
    {
     "data": {
      "text/plain": [
       "list"
      ]
     },
     "execution_count": 1,
     "metadata": {},
     "output_type": "execute_result"
    }
   ],
   "source": [
    "# ví dụ \n",
    "a = [1, 2, 3]\n",
    "\n",
    "type(a)"
   ]
  },
  {
   "cell_type": "markdown",
   "metadata": {
    "colab_type": "text",
    "id": "lbL_PXD-L_Q4",
    "slideshow": {
     "slide_type": "slide"
    }
   },
   "source": [
    "Không có ràng buộc nào cho các phần tử trong list, nghĩa là :\n",
    "- Các phần tử có thể giống nhau.\n",
    "- Các phần tử có thể có kiểu dữ liệu khác nhau."
   ]
  },
  {
   "cell_type": "code",
   "execution_count": 0,
   "metadata": {
    "colab": {
     "base_uri": "https://localhost:8080/",
     "height": 34
    },
    "colab_type": "code",
    "id": "CF1QYUIaL6pS",
    "outputId": "d6ed98c6-bcfe-4b90-8f2d-de854ca3a56c",
    "slideshow": {
     "slide_type": "subslide"
    }
   },
   "outputs": [
    {
     "data": {
      "text/plain": [
       "[1, 'a', ['c', 'd'], 1]"
      ]
     },
     "execution_count": 4,
     "metadata": {
      "tags": []
     },
     "output_type": "execute_result"
    }
   ],
   "source": [
    "# không có ràng buộc nào cho các phần tử trong list\n",
    "b = [1, 'a', ['c', 'd'], 1]\n",
    "\n",
    "b"
   ]
  },
  {
   "cell_type": "markdown",
   "metadata": {
    "colab_type": "text",
    "id": "Dr4ARWBKM4qp",
    "slideshow": {
     "slide_type": "slide"
    }
   },
   "source": [
    "## Truy cập đến các phần tử trong list\n",
    "Bạn có thể truy cập đến các phần tử trong `list` tương tự như cách truy cập đến các ký tự trong `str`."
   ]
  },
  {
   "cell_type": "code",
   "execution_count": 0,
   "metadata": {
    "colab": {
     "base_uri": "https://localhost:8080/",
     "height": 85
    },
    "colab_type": "code",
    "id": "XqMepzRsMX4s",
    "outputId": "f3d04dfc-6236-428c-9d95-5acbc3c54e10",
    "slideshow": {
     "slide_type": "subslide"
    }
   },
   "outputs": [
    {
     "name": "stdout",
     "output_type": "stream",
     "text": [
      "0\n",
      "6\n",
      "[1, 3, 5]\n",
      "[6, 5, 4, 3, 2, 1, 0]\n"
     ]
    }
   ],
   "source": [
    "l = [0, 1, 2, 3, 4, 5, 6]\n",
    "\n",
    "# lấy phần tử đầu tiên\n",
    "print(l[0])\n",
    "\n",
    "# lấy phần tử cuối cùng\n",
    "print(l[-1])\n",
    "\n",
    "# lấy mỗi hai phần tử một lần, bắt đầu từ phần tử thứ 2\n",
    "print(l[1:-1:2])\n",
    "\n",
    "# lấy list thao thứ tự ngược lại\n",
    "print(l[::-1])"
   ]
  },
  {
   "cell_type": "markdown",
   "metadata": {
    "colab_type": "text",
    "id": "4ikkukzvOR-A"
   },
   "source": [
    "## Một số thao tác với `list`"
   ]
  },
  {
   "cell_type": "markdown",
   "metadata": {
    "colab_type": "text",
    "id": "fMLyvioEOWSj",
    "slideshow": {
     "slide_type": "slide"
    }
   },
   "source": [
    "### Thêm phần tử mới\n",
    "Để thêm một phần tử mới, bạn có thể dùng toán tử cộng `+` hoặc dùng phương thức `.append()`."
   ]
  },
  {
   "cell_type": "code",
   "execution_count": 4,
   "metadata": {
    "colab": {
     "base_uri": "https://localhost:8080/",
     "height": 51
    },
    "colab_type": "code",
    "id": "mOQT04VVNeGr",
    "outputId": "9df213f0-6665-472f-eeee-9d75d25e3aec",
    "slideshow": {
     "slide_type": "subslide"
    }
   },
   "outputs": [
    {
     "name": "stdout",
     "output_type": "stream",
     "text": [
      "[1, 2, 3, 4]\n",
      "[1, 2, 3, 4, [5]]\n"
     ]
    }
   ],
   "source": [
    "# ví dụ \n",
    "a = [1, 2, 3, 4]\n",
    "b = [5]\n",
    "print(a)\n",
    "a.append(b)\n",
    "print(a)"
   ]
  },
  {
   "cell_type": "markdown",
   "metadata": {
    "colab_type": "text",
    "id": "OXuZbQBTPvjG",
    "slideshow": {
     "slide_type": "subslide"
    }
   },
   "source": [
    "Lưu ý rằng `.append()` sẽ trực tiếp thêm vào `list`. Vì thế, hãy cẩn thận khi dùng `.append()`."
   ]
  },
  {
   "cell_type": "markdown",
   "metadata": {
    "colab_type": "text",
    "id": "hmT8_JQeQPIj",
    "slideshow": {
     "slide_type": "slide"
    }
   },
   "source": [
    "### Thay đổi giá trị phần tử các giá trị trong `list`\n",
    "Để thay đổi giá trị của phần tử trong `list`, bạn thực hiện phép gán như sau"
   ]
  },
  {
   "cell_type": "code",
   "execution_count": 7,
   "metadata": {
    "colab": {
     "base_uri": "https://localhost:8080/",
     "height": 34
    },
    "colab_type": "code",
    "id": "rGQDgtY1Po46",
    "outputId": "9f5b8c00-c4d8-491f-ceda-7ca53eef9004",
    "slideshow": {
     "slide_type": "subslide"
    }
   },
   "outputs": [
    {
     "name": "stdout",
     "output_type": "stream",
     "text": [
      "[1, 4, 9, 25]\n"
     ]
    }
   ],
   "source": [
    "a = [1, 4, 9, 24]\n",
    "\n",
    "# thay đổi giá trị một phần tử\n",
    "a[-1] = 25\n",
    "print(a)"
   ]
  },
  {
   "cell_type": "code",
   "execution_count": 8,
   "metadata": {
    "colab": {
     "base_uri": "https://localhost:8080/",
     "height": 34
    },
    "colab_type": "code",
    "id": "toFAXvUgQ1jC",
    "outputId": "ddb9c20d-b25d-4575-c839-b9e1a4c401e2",
    "slideshow": {
     "slide_type": "subslide"
    }
   },
   "outputs": [
    {
     "name": "stdout",
     "output_type": "stream",
     "text": [
      "[1, 'a', 'b', 4]\n"
     ]
    }
   ],
   "source": [
    "a = [1, 2, 3, 4]\n",
    "\n",
    "# thay đổi giá trị nhiều phần tử\n",
    "a[1:3] = ['a', 'b']\n",
    "print(a)"
   ]
  },
  {
   "cell_type": "markdown",
   "metadata": {
    "colab_type": "text",
    "id": "yJKUT2N_SVNL",
    "slideshow": {
     "slide_type": "slide"
    }
   },
   "source": [
    "**Lưu ý** : Khi thay đổi giá trị nhiều phần tử thì số lượng hai bên phải bằng nhau."
   ]
  },
  {
   "cell_type": "code",
   "execution_count": 0,
   "metadata": {
    "colab": {
     "base_uri": "https://localhost:8080/",
     "height": 34
    },
    "colab_type": "code",
    "id": "KZ6FG-eeS-sn",
    "outputId": "87950e3e-3cbf-4d6f-bc5d-02aac583841a",
    "slideshow": {
     "slide_type": "subslide"
    }
   },
   "outputs": [
    {
     "name": "stdout",
     "output_type": "stream",
     "text": [
      "[1, 'a', 4]\n"
     ]
    }
   ],
   "source": [
    "a = [1, 2, 3, 4]\n",
    "a[1:3] = 'a'\n",
    "print(a)"
   ]
  },
  {
   "cell_type": "markdown",
   "metadata": {
    "colab_type": "text",
    "id": "xRzSLkdtSGh8",
    "slideshow": {
     "slide_type": "slide"
    }
   },
   "source": [
    "### Xóa phần tử trong `list`\n",
    "Để xóa một (hoặc nhiều) phần tử trong `list`, bạn có thể gán những phần tử đó bằng `list` rỗng `[]`."
   ]
  },
  {
   "cell_type": "code",
   "execution_count": 9,
   "metadata": {
    "colab": {
     "base_uri": "https://localhost:8080/",
     "height": 34
    },
    "colab_type": "code",
    "id": "YyBbNiyiR-HX",
    "outputId": "76f3df78-8d99-41db-fe77-7902cb38b132",
    "slideshow": {
     "slide_type": "subslide"
    }
   },
   "outputs": [
    {
     "name": "stdout",
     "output_type": "stream",
     "text": [
      "[1]\n"
     ]
    }
   ],
   "source": [
    "a = [1, 2, 3, 4]\n",
    "a[1:] = []\n",
    "print(a)"
   ]
  },
  {
   "cell_type": "markdown",
   "metadata": {
    "colab_type": "text",
    "id": "AOG7Vz-aWP86",
    "slideshow": {
     "slide_type": "slide"
    }
   },
   "source": [
    "# Kiểu dữ liệu `set`"
   ]
  },
  {
   "cell_type": "markdown",
   "metadata": {
    "colab_type": "text",
    "id": "tbXR_MRyWX0i",
    "slideshow": {
     "slide_type": "subslide"
    }
   },
   "source": [
    "## Giới thiệu\n",
    "`set` là một kiểu dữ liệu của python. Về cơ bản, `set` là một `list` nhưng các phần tử không trùng nhau. Nói cách khác, `set` là cách python dùng để thể hiện tập hợp toán học.\n",
    "\n",
    "Để tạo một `set`, bạn có thể thực hiện theo cách sau"
   ]
  },
  {
   "cell_type": "code",
   "execution_count": 9,
   "metadata": {
    "colab": {
     "base_uri": "https://localhost:8080/",
     "height": 51
    },
    "colab_type": "code",
    "id": "z0DLj7pdT3sN",
    "outputId": "73f935e1-ae87-4c6d-f3ed-180d70f79cfd",
    "slideshow": {
     "slide_type": "subslide"
    }
   },
   "outputs": [
    {
     "name": "stdout",
     "output_type": "stream",
     "text": [
      "{1, 2, 3, 4}\n",
      "<class 'set'>\n"
     ]
    }
   ],
   "source": [
    "# set sẽ được đánh dấu bằng cặp ngoặc nhọn {}\n",
    "s = {1, 2, 3, 4, 4, 1, 3}\n",
    "\n",
    "print(s)\n",
    "print(type(s))"
   ]
  },
  {
   "cell_type": "markdown",
   "metadata": {
    "colab_type": "text",
    "id": "RA0d1EgcXUWH",
    "slideshow": {
     "slide_type": "subslide"
    }
   },
   "source": [
    "Ngoài ra, bạn có thể tạo ra `set` từ `list` bằng cách dùng hàm `set()`."
   ]
  },
  {
   "cell_type": "code",
   "execution_count": 12,
   "metadata": {
    "colab": {
     "base_uri": "https://localhost:8080/",
     "height": 34
    },
    "colab_type": "code",
    "id": "tu-0uXsTW4-i",
    "outputId": "1972ce4b-de57-433b-9665-57affe405655",
    "slideshow": {
     "slide_type": "subslide"
    }
   },
   "outputs": [
    {
     "name": "stdout",
     "output_type": "stream",
     "text": [
      "{1, 2, 'a'}\n"
     ]
    }
   ],
   "source": [
    "s2 = set([1, 2, 'a', 'a'])\n",
    "print(s2)"
   ]
  },
  {
   "cell_type": "markdown",
   "metadata": {
    "colab_type": "text",
    "id": "qAlrOAAlX7-s",
    "slideshow": {
     "slide_type": "slide"
    }
   },
   "source": [
    "## Các thao tác trên `set`"
   ]
  },
  {
   "cell_type": "markdown",
   "metadata": {
    "colab_type": "text",
    "id": "TyBtfC9xYB-d",
    "slideshow": {
     "slide_type": "slide"
    }
   },
   "source": [
    "Tuy có thể hiểu `set` là một `list` có các phần tử không trùng nhau nhưng bạn không thể truy cập đến các phần tử trong `set` giống như `list`."
   ]
  },
  {
   "cell_type": "code",
   "execution_count": 13,
   "metadata": {
    "colab": {
     "base_uri": "https://localhost:8080/",
     "height": 163
    },
    "colab_type": "code",
    "id": "XiMf7WLqXiyf",
    "outputId": "3df58018-fa88-46b3-f9b3-33089d631ed7",
    "slideshow": {
     "slide_type": "subslide"
    }
   },
   "outputs": [
    {
     "ename": "TypeError",
     "evalue": "'set' object does not support indexing",
     "output_type": "error",
     "traceback": [
      "\u001b[1;31m---------------------------------------------------------------------------\u001b[0m",
      "\u001b[1;31mTypeError\u001b[0m                                 Traceback (most recent call last)",
      "\u001b[1;32m<ipython-input-13-8755b941c10d>\u001b[0m in \u001b[0;36m<module>\u001b[1;34m\u001b[0m\n\u001b[1;32m----> 1\u001b[1;33m \u001b[0ms2\u001b[0m\u001b[1;33m[\u001b[0m\u001b[1;36m1\u001b[0m\u001b[1;33m]\u001b[0m\u001b[1;33m\u001b[0m\u001b[1;33m\u001b[0m\u001b[0m\n\u001b[0m",
      "\u001b[1;31mTypeError\u001b[0m: 'set' object does not support indexing"
     ]
    }
   ],
   "source": [
    "s2[1]"
   ]
  },
  {
   "cell_type": "markdown",
   "metadata": {
    "colab_type": "text",
    "id": "r66JMAD7gz6Q",
    "slideshow": {
     "slide_type": "slide"
    }
   },
   "source": [
    "Một số các phép toán đối với `set`."
   ]
  },
  {
   "cell_type": "code",
   "execution_count": 0,
   "metadata": {
    "colab": {
     "base_uri": "https://localhost:8080/",
     "height": 68
    },
    "colab_type": "code",
    "id": "JWId0EfhcRPo",
    "outputId": "382da4ef-2362-408b-8bc1-ec1e035afb93",
    "slideshow": {
     "slide_type": "subslide"
    }
   },
   "outputs": [
    {
     "name": "stdout",
     "output_type": "stream",
     "text": [
      "Phép hợp hai tập hợp :  {1, 2, 3, 4, 5, 6}\n",
      "Phép giao hai tập hợp :  {3, 4}\n",
      "Phép lấy những phần tử thuộc a nhưng không thuộc b :  {1, 2}\n"
     ]
    }
   ],
   "source": [
    "a = set([1, 2, 3, 4])\n",
    "b = set([3, 4, 5, 6])\n",
    "\n",
    "print('Phép hợp hai tập hợp : ', a | b)\n",
    "print('Phép giao hai tập hợp : ', a & b)\n",
    "print('Phép lấy những phần tử thuộc a nhưng không thuộc b : ', a - b)"
   ]
  },
  {
   "cell_type": "markdown",
   "metadata": {
    "colab_type": "text",
    "id": "KF79Bemah4EO",
    "slideshow": {
     "slide_type": "slide"
    }
   },
   "source": [
    "# Kiểu dữ liệu `dictionary`"
   ]
  },
  {
   "cell_type": "markdown",
   "metadata": {
    "colab_type": "text",
    "id": "mvUbIxAzz84B",
    "slideshow": {
     "slide_type": "subslide"
    }
   },
   "source": [
    "## Giới thiệu\n",
    "`dictionary` là một kiểu dữ liệu trong python với cấu trúc :\n",
    "```\n",
    "{khoá_1 : giá_trị_1, khoá_2 : giá_trị_2, ..., khoá_n : giá_trị_n}\n",
    "```\n",
    "Trong đó:\n",
    "- `khoá_1`, `khoá_2`, ..., `khoá_n` là không trùng nhau.\n",
    "- Các khoá có thể có kiểu `str` hoặc số nhưng không thể là `list`, `set`, ..."
   ]
  },
  {
   "cell_type": "code",
   "execution_count": 14,
   "metadata": {
    "colab": {},
    "colab_type": "code",
    "id": "wB6W_8e104WX",
    "slideshow": {
     "slide_type": "subslide"
    }
   },
   "outputs": [
    {
     "data": {
      "text/plain": [
       "dict"
      ]
     },
     "execution_count": 14,
     "metadata": {},
     "output_type": "execute_result"
    }
   ],
   "source": [
    "# ví dụ dictionary\n",
    "d = {'a': 1, 'b': 2, 'c': 3}\n",
    "\n",
    "type(d)"
   ]
  },
  {
   "cell_type": "markdown",
   "metadata": {
    "colab_type": "text",
    "id": "1MARMufq2umF",
    "slideshow": {
     "slide_type": "slide"
    }
   },
   "source": [
    "## Truy cập đến một phần tử\n",
    "Để truy cập đến một phần tử trong `dictionary`, bạn dùng cú pháp\n",
    "```\n",
    "<tên_dictionary>[<khoá_cần_lấy_giá_trị>]\n",
    "```"
   ]
  },
  {
   "cell_type": "code",
   "execution_count": 18,
   "metadata": {
    "colab": {
     "base_uri": "https://localhost:8080/",
     "height": 34
    },
    "colab_type": "code",
    "id": "XVqqBs0E3L84",
    "outputId": "0330316d-232b-47c4-f569-2bbfd45dab65",
    "slideshow": {
     "slide_type": "subslide"
    }
   },
   "outputs": [
    {
     "data": {
      "text/plain": [
       "3"
      ]
     },
     "execution_count": 18,
     "metadata": {},
     "output_type": "execute_result"
    }
   ],
   "source": [
    "d['c']"
   ]
  },
  {
   "cell_type": "markdown",
   "metadata": {
    "colab_type": "text",
    "id": "vZrOnLPF3Ssg",
    "slideshow": {
     "slide_type": "slide"
    }
   },
   "source": [
    "## Một số thao tác trên `dictionary`"
   ]
  },
  {
   "cell_type": "markdown",
   "metadata": {
    "colab_type": "text",
    "id": "b3dQ6U2C3Zu4",
    "slideshow": {
     "slide_type": "slide"
    }
   },
   "source": [
    "### Thêm phần tử mới\n",
    "Để thêm một phần tử mới vào `dictionary`, ta dùng cú pháp gán sau :\n",
    "```\n",
    "<tên_dictionary>[<khoá_mới>] = giá_trị\n",
    "```\n",
    "Lưu ý : `khoá_mới` không được phép trùng với các khoá đã có, nếu không sẽ chuyển thành thao tác thay đổi giá trị một phần tử."
   ]
  },
  {
   "cell_type": "code",
   "execution_count": 20,
   "metadata": {
    "colab": {
     "base_uri": "https://localhost:8080/",
     "height": 34
    },
    "colab_type": "code",
    "id": "Lq07S4s-3ODg",
    "outputId": "eb1ea013-ab1d-45da-b877-c20181ff3bf1",
    "slideshow": {
     "slide_type": "subslide"
    }
   },
   "outputs": [
    {
     "data": {
      "text/plain": [
       "{'a': 1, 'b': 2, 'c': 3, 'd': 4, 'e': 5}"
      ]
     },
     "execution_count": 20,
     "metadata": {},
     "output_type": "execute_result"
    }
   ],
   "source": [
    "d['e'] = 5\n",
    "\n",
    "d"
   ]
  },
  {
   "cell_type": "markdown",
   "metadata": {
    "colab_type": "text",
    "id": "UXkjS9xH3_uJ",
    "slideshow": {
     "slide_type": "subslide"
    }
   },
   "source": [
    "### Thay đổi giá trị ứng với một khoá\n",
    "Như lưu ý ở trên, bạn có thể dùng câu gán \n",
    "```\n",
    "<tên_dictionary>[<khoá_muốn_thay_đổi_giá_trị>] = giá_trị_mới\n",
    "```"
   ]
  },
  {
   "cell_type": "code",
   "execution_count": 21,
   "metadata": {
    "colab": {
     "base_uri": "https://localhost:8080/",
     "height": 34
    },
    "colab_type": "code",
    "id": "19XWMmUm39ih",
    "outputId": "423248c2-7b10-414d-a64a-f18acc710e57",
    "slideshow": {
     "slide_type": "subslide"
    }
   },
   "outputs": [
    {
     "data": {
      "text/plain": [
       "{'a': 1, 'b': 2, 'c': 3, 'd': 5, 'e': 5}"
      ]
     },
     "execution_count": 21,
     "metadata": {},
     "output_type": "execute_result"
    }
   ],
   "source": [
    "d['d'] = 5\n",
    "\n",
    "d"
   ]
  },
  {
   "cell_type": "markdown",
   "metadata": {
    "colab_type": "text",
    "id": "QRRikLHI-r64",
    "slideshow": {
     "slide_type": "slide"
    }
   },
   "source": [
    "### Lấy ra các khoá\n",
    "Để lấy ra các khoá bạn dùng phương thức `.keys()` như sau :\n",
    "```\n",
    "<tên_dictionary>.keys()\n",
    "```"
   ]
  },
  {
   "cell_type": "code",
   "execution_count": 26,
   "metadata": {
    "colab": {
     "base_uri": "https://localhost:8080/",
     "height": 34
    },
    "colab_type": "code",
    "id": "V5LOEB4E_AZL",
    "outputId": "eb5b0160-4442-4ed3-ee35-d605a708662f",
    "slideshow": {
     "slide_type": "subslide"
    }
   },
   "outputs": [
    {
     "data": {
      "text/plain": [
       "['a', 'b', 'c', 'd', 'e']"
      ]
     },
     "execution_count": 26,
     "metadata": {},
     "output_type": "execute_result"
    }
   ],
   "source": [
    "k = list(d.keys())\n",
    "k"
   ]
  },
  {
   "cell_type": "markdown",
   "metadata": {
    "colab_type": "text",
    "id": "8uGqKsKj_Yfa",
    "slideshow": {
     "slide_type": "subslide"
    }
   },
   "source": [
    "Kết quả trả về của chúng ta là một đối tượng con của `list`. Để trả về `list`, bạn dùng thêm hàm `list()`."
   ]
  },
  {
   "cell_type": "code",
   "execution_count": 28,
   "metadata": {
    "colab": {
     "base_uri": "https://localhost:8080/",
     "height": 34
    },
    "colab_type": "code",
    "id": "3g9XUY7S_k4K",
    "outputId": "d0915c27-20ce-463a-a0a1-e6fb9d8c4c70",
    "slideshow": {
     "slide_type": "subslide"
    }
   },
   "outputs": [
    {
     "data": {
      "text/plain": [
       "[('a', 1), ('b', 2), ('c', 3), ('d', 5), ('e', 5)]"
      ]
     },
     "execution_count": 28,
     "metadata": {},
     "output_type": "execute_result"
    }
   ],
   "source": [
    "list(d.items())"
   ]
  },
  {
   "cell_type": "markdown",
   "metadata": {
    "colab_type": "text",
    "id": "h26sFrzm6cIU",
    "slideshow": {
     "slide_type": "slide"
    }
   },
   "source": [
    "# Từ khoá `in`\n",
    "Từ khoá này cho phép bạn kiểm tra một giá trị có thuộc `list`, `set` cho trước hay không."
   ]
  },
  {
   "cell_type": "code",
   "execution_count": 0,
   "metadata": {
    "colab": {
     "base_uri": "https://localhost:8080/",
     "height": 51
    },
    "colab_type": "code",
    "id": "Kx8zwvrn4fVU",
    "outputId": "80d6caf7-51e6-4418-a6d4-e81f2d14df86",
    "slideshow": {
     "slide_type": "subslide"
    }
   },
   "outputs": [
    {
     "name": "stdout",
     "output_type": "stream",
     "text": [
      "True\n",
      "False\n"
     ]
    }
   ],
   "source": [
    "# ví dụ dùng in với list\n",
    "l = [1, 2, 3, 4]\n",
    "\n",
    "print(1 in l)\n",
    "print(5 in l)"
   ]
  },
  {
   "cell_type": "code",
   "execution_count": 16,
   "metadata": {
    "colab": {
     "base_uri": "https://localhost:8080/",
     "height": 51
    },
    "colab_type": "code",
    "id": "cEx5fqnU7D1m",
    "outputId": "a962b6d1-b9a9-4f91-844a-990c7548964a",
    "slideshow": {
     "slide_type": "subslide"
    }
   },
   "outputs": [
    {
     "name": "stdout",
     "output_type": "stream",
     "text": [
      "True\n",
      "False\n"
     ]
    }
   ],
   "source": [
    "# ví dụ dùng in với set\n",
    "s = {1, 2, 3, 4}\n",
    "\n",
    "print(1 in s)\n",
    "print(5 in s)"
   ]
  },
  {
   "cell_type": "markdown",
   "metadata": {
    "colab_type": "text",
    "id": "cC2M-evL7RTx",
    "slideshow": {
     "slide_type": "slide"
    }
   },
   "source": [
    "Còn đối với `dictionary`, từ khoá `in` sẽ kiểm tra giá trị đó có phải là một `khoá` của `dictionary` hay không."
   ]
  },
  {
   "cell_type": "code",
   "execution_count": 0,
   "metadata": {
    "colab": {
     "base_uri": "https://localhost:8080/",
     "height": 51
    },
    "colab_type": "code",
    "id": "BlgvWSq57PV6",
    "outputId": "eff44f5b-9014-4e96-ca6d-42b86c903300",
    "slideshow": {
     "slide_type": "subslide"
    }
   },
   "outputs": [
    {
     "name": "stdout",
     "output_type": "stream",
     "text": [
      "True\n",
      "False\n"
     ]
    }
   ],
   "source": [
    "d = {'a' : 1, 'b' : 2, 'c' : 3}\n",
    "\n",
    "print('a' in d)\n",
    "print('e' in d)"
   ]
  },
  {
   "cell_type": "markdown",
   "metadata": {
    "colab_type": "text",
    "id": "JsfIuX3H9QwK",
    "slideshow": {
     "slide_type": "slide"
    }
   },
   "source": [
    "Bạn còn có thể dùng `in` để kiểm tra một chuỗi có nằm trong một chuỗi khác hay không"
   ]
  },
  {
   "cell_type": "code",
   "execution_count": 30,
   "metadata": {
    "colab": {
     "base_uri": "https://localhost:8080/",
     "height": 51
    },
    "colab_type": "code",
    "id": "1ZFvGzt59cgJ",
    "outputId": "e7470249-1cad-46c5-ef24-ec5b8ec0ce38",
    "slideshow": {
     "slide_type": "subslide"
    }
   },
   "outputs": [
    {
     "name": "stdout",
     "output_type": "stream",
     "text": [
      "True\n",
      "False\n",
      "0\n",
      "-1\n"
     ]
    }
   ],
   "source": [
    "st1 = 'Hello'\n",
    "st2 = 'hello'\n",
    "st3 = 'Hello World!'\n",
    "\n",
    "print(st1 in st3)\n",
    "print(st2 in st3)\n",
    "print(st3.find(st1))\n",
    "print(st3.find(st2))"
   ]
  },
  {
   "cell_type": "markdown",
   "metadata": {
    "colab_type": "text",
    "id": "919aCKUk8QDT",
    "slideshow": {
     "slide_type": "slide"
    }
   },
   "source": [
    "Ngoài ra, từ khoá `in` còn cho bạn khả năng lặp qua các phần tử `list`, `set` và `dictionary` như sẽ trình bày ở phần sau."
   ]
  },
  {
   "cell_type": "markdown",
   "metadata": {
    "colab_type": "text",
    "id": "Rdn8LXJf8q_-",
    "slideshow": {
     "slide_type": "slide"
    }
   },
   "source": [
    "# Vòng lặp `for` và các kiểu dữ liệu tập hợp"
   ]
  },
  {
   "cell_type": "markdown",
   "metadata": {
    "colab_type": "text",
    "id": "7uNrQ7ri8zh0",
    "slideshow": {
     "slide_type": "subslide"
    }
   },
   "source": [
    "Đối với một số ngôn ngữ lập trình, để lặp qua các phần tử trong một `list`, bạn cần phải dùng thông qua `index` của từng phần tử. Chẳng hạn :"
   ]
  },
  {
   "cell_type": "code",
   "execution_count": 17,
   "metadata": {
    "colab": {
     "base_uri": "https://localhost:8080/",
     "height": 85
    },
    "colab_type": "code",
    "id": "vskb1MKH7_Cp",
    "outputId": "15f9a93e-ab1f-408e-edd5-25b905fd7ac4",
    "slideshow": {
     "slide_type": "subslide"
    }
   },
   "outputs": [
    {
     "name": "stdout",
     "output_type": "stream",
     "text": [
      "a\n",
      "b\n",
      "c\n",
      "d\n"
     ]
    }
   ],
   "source": [
    "l = ['a', 'b', 'c', 'd']\n",
    "\n",
    "for i in range(len(l)) :\n",
    "    print(l[i])"
   ]
  },
  {
   "cell_type": "markdown",
   "metadata": {
    "colab_type": "text",
    "id": "P7EssL79-Iha",
    "slideshow": {
     "slide_type": "slide"
    }
   },
   "source": [
    "Tuy nhiên, với python, bạn có thể lặp trực tiếp qua từng phần tử của `list` như sau :"
   ]
  },
  {
   "cell_type": "code",
   "execution_count": 22,
   "metadata": {
    "colab": {
     "base_uri": "https://localhost:8080/",
     "height": 85
    },
    "colab_type": "code",
    "id": "ShQkkDAu-GHf",
    "outputId": "1ad9902c-8e63-4599-d96b-c452531a809b",
    "slideshow": {
     "slide_type": "subslide"
    }
   },
   "outputs": [
    {
     "name": "stdout",
     "output_type": "stream",
     "text": [
      "e\n",
      "f\n",
      "g\n",
      "h\n"
     ]
    },
    {
     "data": {
      "text/plain": [
       "[0, 1, 2, 3, 4, 5, 6, 7, 8, 9]"
      ]
     },
     "execution_count": 22,
     "metadata": {},
     "output_type": "execute_result"
    }
   ],
   "source": [
    "l2 = ['e', 'f', 'g', 'h']\n",
    "\n",
    "for e in l2 :\n",
    "    print(e)\n",
    "    \n",
    "list(range(10))"
   ]
  },
  {
   "cell_type": "markdown",
   "metadata": {
    "colab_type": "text",
    "id": "jQyCcC6fAGuA",
    "slideshow": {
     "slide_type": "slide"
    }
   },
   "source": [
    "Đối với `dictionary`, người ta thường lặp qua cặp khoá - giá trị như sau :"
   ]
  },
  {
   "cell_type": "code",
   "execution_count": 0,
   "metadata": {
    "colab": {
     "base_uri": "https://localhost:8080/",
     "height": 51
    },
    "colab_type": "code",
    "id": "KRLrpRId-jOb",
    "outputId": "c37527b6-e0cb-4bab-fc36-5eb10646e57d",
    "slideshow": {
     "slide_type": "subslide"
    }
   },
   "outputs": [
    {
     "name": "stdout",
     "output_type": "stream",
     "text": [
      "a 1\n",
      "b 2\n"
     ]
    }
   ],
   "source": [
    "d1 = {'a' : 1, 'b' : 2}\n",
    "\n",
    "for k, v in d1.items() :\n",
    "    print(k, v)"
   ]
  },
  {
   "cell_type": "markdown",
   "metadata": {
    "colab_type": "text",
    "id": "b48L8VtgAppZ",
    "slideshow": {
     "slide_type": "slide"
    }
   },
   "source": [
    "Ngoài ra, bạn có thể dùng `for ... in ...` để lặp qua từng ký tự của một chuỗi như sau :"
   ]
  },
  {
   "cell_type": "code",
   "execution_count": 0,
   "metadata": {
    "colab": {
     "base_uri": "https://localhost:8080/",
     "height": 102
    },
    "colab_type": "code",
    "id": "untHbv9QAnAA",
    "outputId": "eaacb62a-dc93-485f-879a-53fcf6798020",
    "slideshow": {
     "slide_type": "subslide"
    }
   },
   "outputs": [
    {
     "name": "stdout",
     "output_type": "stream",
     "text": [
      "H\n",
      "e\n",
      "l\n",
      "l\n",
      "o\n"
     ]
    }
   ],
   "source": [
    "s1 = 'Hello'\n",
    "for e in s1 :\n",
    "    print(e)"
   ]
  },
  {
   "cell_type": "markdown",
   "metadata": {
    "colab_type": "text",
    "id": "p6rRJ6nVBMSF",
    "slideshow": {
     "slide_type": "slide"
    }
   },
   "source": [
    "# Tạo list theo cách python"
   ]
  },
  {
   "cell_type": "markdown",
   "metadata": {
    "colab_type": "text",
    "id": "9wfnfrIGBxg6",
    "slideshow": {
     "slide_type": "slide"
    }
   },
   "source": [
    "**Bài tập** : Tạo ra một `list` chứa bình phương của các số từ 1 đến 9?"
   ]
  },
  {
   "cell_type": "markdown",
   "metadata": {
    "colab_type": "text",
    "id": "YeEDIZ1wCaFn",
    "slideshow": {
     "slide_type": "subslide"
    }
   },
   "source": [
    "Thông thường, bạn có thể sẽ viết như sau :"
   ]
  },
  {
   "cell_type": "code",
   "execution_count": 23,
   "metadata": {
    "colab": {
     "base_uri": "https://localhost:8080/",
     "height": 34
    },
    "colab_type": "code",
    "id": "EmQB6mCBBJhI",
    "outputId": "22333810-65da-4937-dd85-506dd05704ba",
    "slideshow": {
     "slide_type": "subslide"
    }
   },
   "outputs": [
    {
     "data": {
      "text/plain": [
       "[1, 4, 9, 16, 25, 36, 49, 64, 81]"
      ]
     },
     "execution_count": 23,
     "metadata": {},
     "output_type": "execute_result"
    }
   ],
   "source": [
    "li = []\n",
    "for i in range(1, 10) :\n",
    "    li = li + [i * i]\n",
    "\n",
    "li"
   ]
  },
  {
   "cell_type": "markdown",
   "metadata": {
    "colab_type": "text",
    "id": "vkas7692Cubz",
    "slideshow": {
     "slide_type": "slide"
    }
   },
   "source": [
    "Tuy nhiên, trong python, bạn có thể viêt gọn lại như sau : "
   ]
  },
  {
   "cell_type": "code",
   "execution_count": 25,
   "metadata": {
    "colab": {
     "base_uri": "https://localhost:8080/",
     "height": 34
    },
    "colab_type": "code",
    "id": "PMnpMmAZCsno",
    "outputId": "d8513e03-e6b7-44b0-87a4-828394b1c765",
    "slideshow": {
     "slide_type": "subslide"
    }
   },
   "outputs": [
    {
     "data": {
      "text/plain": [
       "[1, 4, 9, 16, 25, 36, 49, 64, 81]"
      ]
     },
     "execution_count": 25,
     "metadata": {},
     "output_type": "execute_result"
    }
   ],
   "source": [
    "li = [i * i for i in range(1, 10)]\n",
    "li"
   ]
  },
  {
   "cell_type": "markdown",
   "metadata": {
    "colab_type": "text",
    "id": "pQrI3QMRDA6V",
    "slideshow": {
     "slide_type": "subslide"
    }
   },
   "source": [
    "Bạn có thể hiểu như sau `li` là danh sách của các giá trị `i * i` với `i` nằm trong `range(1, 10)`."
   ]
  }
 ],
 "metadata": {
  "celltoolbar": "Slideshow",
  "colab": {
   "collapsed_sections": [],
   "name": "Các kiểu dữ liệu tập hợp",
   "provenance": []
  },
  "kernelspec": {
   "display_name": "Python 3",
   "language": "python",
   "name": "python3"
  },
  "language_info": {
   "codemirror_mode": {
    "name": "ipython",
    "version": 3
   },
   "file_extension": ".py",
   "mimetype": "text/x-python",
   "name": "python",
   "nbconvert_exporter": "python",
   "pygments_lexer": "ipython3",
   "version": "3.7.2"
  }
 },
 "nbformat": 4,
 "nbformat_minor": 1
}
