{
 "cells": [
  {
   "cell_type": "markdown",
   "metadata": {
    "colab_type": "text",
    "id": "4sm1ySPa0Zii",
    "slideshow": {
     "slide_type": "slide"
    }
   },
   "source": [
    "# Cấu trúc rẽ nhánh"
   ]
  },
  {
   "cell_type": "markdown",
   "metadata": {
    "colab_type": "text",
    "id": "uiSmLvKRHYKQ",
    "slideshow": {
     "slide_type": "slide"
    }
   },
   "source": [
    "# Cấu trúc rẽ nhánh cơ bản"
   ]
  },
  {
   "cell_type": "markdown",
   "metadata": {
    "colab_type": "text",
    "id": "7vZnWyaVPy8n",
    "slideshow": {
     "slide_type": "slide"
    }
   },
   "source": [
    "## Giới thiệu"
   ]
  },
  {
   "cell_type": "markdown",
   "metadata": {
    "colab_type": "text",
    "id": "OjqMxBwNHncp",
    "slideshow": {
     "slide_type": "subslide"
    }
   },
   "source": [
    "Dạng đầy đủ của cấu trúc rẽ nhánh được thể hiện qua sơ đồ sau :\n",
    "![Cấu trúc rẽ nhánh đầy đủ](https://i.imgur.com/QPt0gUc.png)"
   ]
  },
  {
   "cell_type": "markdown",
   "metadata": {
    "colab_type": "text",
    "id": "5hyLvdbbLLjm",
    "slideshow": {
     "slide_type": "subslide"
    }
   },
   "source": [
    "Đầu tiên, chúng ta sẽ kiểm tra điều kiện :\n",
    "- Nếu điều kiện đúng, chúng ta thực hiện **hành động 1** rồi thực hiện tiếp **hành động 3**.\n",
    "- Nếu điều kiện sai, chúng ta thực hiện **hành động 2** rồi thực hiện tiếp **hành động 3**"
   ]
  },
  {
   "cell_type": "markdown",
   "metadata": {
    "colab_type": "text",
    "id": "SWDZwNMvOQO8",
    "slideshow": {
     "slide_type": "slide"
    }
   },
   "source": [
    "## Cách viết trong python"
   ]
  },
  {
   "cell_type": "markdown",
   "metadata": {
    "colab_type": "text",
    "id": "X0GUWyHNP6TI",
    "slideshow": {
     "slide_type": "subslide"
    }
   },
   "source": [
    "Để viết câu lệnh rẽ nhánh trong python, chúng ta viết như sau :\n",
    "```\n",
    "if <điều_kiện> :\n",
    "    <hành_động_khi_đúng>\n",
    "else :\n",
    "    <hành_động_khi_sai>\n",
    "```"
   ]
  },
  {
   "cell_type": "code",
   "execution_count": 5,
   "metadata": {
    "colab": {
     "base_uri": "https://localhost:8080/",
     "height": 51
    },
    "colab_type": "code",
    "executionInfo": {
     "elapsed": 1186,
     "status": "ok",
     "timestamp": 1574680629869,
     "user": {
      "displayName": "Thành Văn Lê",
      "photoUrl": "https://lh3.googleusercontent.com/a-/AAuE7mAgUkQ2GE-tsxoWEYe_U05qJtOKvxJIpQHtrRap=s64",
      "userId": "01710290652638436201"
     },
     "user_tz": -420
    },
    "id": "TQSjUxt1LFTf",
    "outputId": "c23906b8-84fd-43a3-c4f7-24a7beddd2af",
    "slideshow": {
     "slide_type": "subslide"
    }
   },
   "outputs": [
    {
     "name": "stdout",
     "output_type": "stream",
     "text": [
      "Nhập a 123\n",
      "Đây là số không âm.\n",
      "\n",
      "Dù đúng hay sai, câu này luôn được in.\n"
     ]
    }
   ],
   "source": [
    "# tạo biến a\n",
    "a = int(input('Nhập a '))\n",
    "# cấu trúc rẽ nhánh\n",
    "if a >= 0:\n",
    "  print('Đây là số không âm.')\n",
    "  print('')\n",
    "else: # a < 0\n",
    "  print('Đây là số âm.')\n",
    "\n",
    "print('Dù đúng hay sai, câu này luôn được in.')"
   ]
  },
  {
   "cell_type": "markdown",
   "metadata": {
    "colab_type": "text",
    "id": "TgaHnYg6Rod5",
    "slideshow": {
     "slide_type": "slide"
    }
   },
   "source": [
    "Bạn có thể bỏ qua phần `else` nếu như không có hành động gì. Lúc này, ta sẽ có dạng *không đầy đủ* của cấu trúc rẽ nhánh."
   ]
  },
  {
   "cell_type": "code",
   "execution_count": 6,
   "metadata": {
    "colab": {
     "base_uri": "https://localhost:8080/",
     "height": 34
    },
    "colab_type": "code",
    "executionInfo": {
     "elapsed": 1991,
     "status": "ok",
     "timestamp": 1574684354146,
     "user": {
      "displayName": "Thành Văn Lê",
      "photoUrl": "https://lh3.googleusercontent.com/a-/AAuE7mAgUkQ2GE-tsxoWEYe_U05qJtOKvxJIpQHtrRap=s64",
      "userId": "01710290652638436201"
     },
     "user_tz": -420
    },
    "id": "-s-b1UAlRoDc",
    "outputId": "0c716101-617c-41c0-b603-a8d488a81926",
    "slideshow": {
     "slide_type": "subslide"
    }
   },
   "outputs": [
    {
     "name": "stdout",
     "output_type": "stream",
     "text": [
      "Dù đúng hay sai, câu này luôn có!\n"
     ]
    }
   ],
   "source": [
    "b = -2\n",
    "if b > 0 :\n",
    "  print('Đây là số dương')\n",
    "print('Dù đúng hay sai, câu này luôn có!')"
   ]
  },
  {
   "cell_type": "markdown",
   "metadata": {
    "colab_type": "text",
    "id": "x9aVAYI50aEc",
    "slideshow": {
     "slide_type": "slide"
    }
   },
   "source": [
    "**Bài tập** : Viết chương trình nhập vào một số. Nếu là số chẵn thì in ra `'Đây là số chẵn'`, ngược lại, nếu là số lẻ thì in ra `'Đây là số lẻ'`."
   ]
  },
  {
   "cell_type": "markdown",
   "metadata": {
    "colab_type": "text",
    "id": "HuCaHJCF1dYO",
    "slideshow": {
     "slide_type": "slide"
    }
   },
   "source": [
    "# Cấu trúc rẽ nhánh nâng cao"
   ]
  },
  {
   "cell_type": "markdown",
   "metadata": {
    "colab_type": "text",
    "id": "i-b5IELz146d",
    "slideshow": {
     "slide_type": "slide"
    }
   },
   "source": [
    "## Cấu trúc rẽ nhánh lồng nhau\n",
    "Bên trong các `hành_động` ở trên, chúng ta hoàn toàn có thể sử dụng các cấu trúc rẽ nhánh khác. Người ta gọi đó là cấu trúc rẽ nhánh lồng nhau."
   ]
  },
  {
   "cell_type": "code",
   "execution_count": 10,
   "metadata": {
    "colab": {
     "base_uri": "https://localhost:8080/",
     "height": 34
    },
    "colab_type": "code",
    "executionInfo": {
     "elapsed": 1226,
     "status": "ok",
     "timestamp": 1574690871327,
     "user": {
      "displayName": "Thành Văn Lê",
      "photoUrl": "https://lh3.googleusercontent.com/a-/AAuE7mAgUkQ2GE-tsxoWEYe_U05qJtOKvxJIpQHtrRap=s64",
      "userId": "01710290652638436201"
     },
     "user_tz": -420
    },
    "id": "J-kUBojPEo0N",
    "outputId": "65147103-ba3e-4d0e-f47e-104dcf673467",
    "slideshow": {
     "slide_type": "subslide"
    }
   },
   "outputs": [],
   "source": [
    "# ví dụ :\n",
    "a = 6\n",
    "if a >= 5 :\n",
    "  if a > 8.5 :\n",
    "    print('Học sinh giỏi')\n",
    "  else: # a < 8.5\n",
    "    if a > 7 :\n",
    "      print('Học sinh khá')\n",
    "else :\n",
    "  print('Chúc bạn may mắn lần sau')"
   ]
  },
  {
   "cell_type": "markdown",
   "metadata": {
    "colab_type": "text",
    "id": "O985z7n35AsT",
    "slideshow": {
     "slide_type": "slide"
    }
   },
   "source": [
    "## Cấu trúc rẽ nhánh bậc thang\n",
    "Đây là một trường hợp đặc biệt của dạng lồng nhau, khi bạn kiểm tra lần lượt từng điều kiện. Tức là, bạn kiểm tra điều kiện 1, nếu điều kiện 1 sai, bạn kiểm tra điều kiện 2, nếu lại sai, bạn kiểm tra điều kiện 3, cứ thế đến điều kiện cuối cùng.\n"
   ]
  },
  {
   "cell_type": "markdown",
   "metadata": {
    "colab_type": "text",
    "id": "pURS_7oK5yiE",
    "slideshow": {
     "slide_type": "subslide"
    }
   },
   "source": [
    "Cấu trúc rẽ nhánh bậc thang được viết trong python như sau :\n",
    "```\n",
    "if <điều_kiện_1> :\n",
    "    <hành_động_1>\n",
    "elif <điều_kiện_2> :\n",
    "    <hành_động_2>\n",
    "elif <điều_kiện_3> :\n",
    "    <hành_động_3>\n",
    "...\n",
    "else :\n",
    "    <hành_động_gì_đó>\n",
    "```"
   ]
  },
  {
   "cell_type": "markdown",
   "metadata": {
    "colab_type": "text",
    "id": "-wZijiGf6f4E",
    "slideshow": {
     "slide_type": "subslide"
    }
   },
   "source": [
    "Lưu ý :\n",
    "- Số lượng `elif` là không giới hạn.\n",
    "- Có thể không có `else` hoặc có một `else`. "
   ]
  },
  {
   "cell_type": "code",
   "execution_count": 5,
   "metadata": {
    "colab": {
     "base_uri": "https://localhost:8080/",
     "height": 51
    },
    "colab_type": "code",
    "executionInfo": {
     "elapsed": 11594,
     "status": "ok",
     "timestamp": 1574691572553,
     "user": {
      "displayName": "Thành Văn Lê",
      "photoUrl": "https://lh3.googleusercontent.com/a-/AAuE7mAgUkQ2GE-tsxoWEYe_U05qJtOKvxJIpQHtrRap=s64",
      "userId": "01710290652638436201"
     },
     "user_tz": -420
    },
    "id": "zjRbyhD16fjV",
    "outputId": "4e0a4e1e-65b6-49a9-d565-a5672d9a0db2",
    "slideshow": {
     "slide_type": "subslide"
    }
   },
   "outputs": [
    {
     "name": "stdout",
     "output_type": "stream",
     "text": [
      "Nhập điểm trung bình 2\n",
      "Học sinh kém\n"
     ]
    }
   ],
   "source": [
    "# ví dụ\n",
    "dt = float(input('Nhập điểm trung bình '))\n",
    "if dt > 8 :\n",
    "  print('Học sinh giỏi')\n",
    "elif dt > 6.5 :\n",
    "  print('Học sinh khá')\n",
    "elif dt > 5 :\n",
    "  print('Học sinh trung bình')\n",
    "elif dt > 2 :\n",
    "  print('Học sinh yếu')\n",
    "else :\n",
    "  print('Học sinh kém')"
   ]
  },
  {
   "cell_type": "markdown",
   "metadata": {
    "colab_type": "text",
    "id": "hxeR65TM7wFJ",
    "slideshow": {
     "slide_type": "slide"
    }
   },
   "source": [
    "## Cấu trúc rẽ nhánh `switch-case`"
   ]
  },
  {
   "cell_type": "markdown",
   "metadata": {
    "colab_type": "text",
    "id": "Dny_c_b98KvW",
    "slideshow": {
     "slide_type": "subslide"
    }
   },
   "source": [
    "Đây là một dạng của cấu trúc rẽ nhánh bậc thang nói trên, khi mà bạn thực hiện hành động dựa trên giá trị của một biến số nào đó."
   ]
  },
  {
   "cell_type": "code",
   "execution_count": 0,
   "metadata": {
    "colab": {},
    "colab_type": "code",
    "id": "Sn6I8xbW0VkF",
    "slideshow": {
     "slide_type": "subslide"
    }
   },
   "outputs": [],
   "source": [
    "# ví dụ :\n",
    "a = int(input('Nhập vào một số '))\n",
    "if a == 1 :\n",
    "  print('Bạn nhập số 1')\n",
    "elif a == 2 :\n",
    "  print('Bạn nhập số 2')\n",
    "else :\n",
    "  print('Số này lớn quá')"
   ]
  },
  {
   "cell_type": "markdown",
   "metadata": {
    "colab_type": "text",
    "id": "3hrSRv9C-m3v",
    "slideshow": {
     "slide_type": "subslide"
    }
   },
   "source": [
    "Trong nhiều ngôn ngữ lập trình, người ta sử dụng các từ khoá `switch`, `case` để biểu diễn cấu trúc này.\n",
    "\n",
    "Tuy nhiên, python lại **không hỗ trợ** các từ khoá đó. Để viết cấu trúc `switch-case`, bạn có thể dùng dạng rẽ nhánh bậc thang như minh hoạ trên hoặc dùng đến `dictionary` (sẽ nhắc ở bài khác)."
   ]
  },
  {
   "cell_type": "markdown",
   "metadata": {
    "colab_type": "text",
    "id": "R4C7mmsn_bvh",
    "slideshow": {
     "slide_type": "slide"
    }
   },
   "source": [
    "# Điều kiện trong cấu trúc rẽ nhánh"
   ]
  },
  {
   "cell_type": "markdown",
   "metadata": {
    "colab_type": "text",
    "id": "NnAnYNOd_qyq",
    "slideshow": {
     "slide_type": "subslide"
    }
   },
   "source": [
    "Điều kiện trong cấu trúc rẽ nhánh có đặc điểm sau :\n",
    "- Phải có giá trị là `True` hoặc `False`.\n",
    "- Có thể là biểu thức đơn hoặc ghép, gọi chung là biểu thức logic"
   ]
  },
  {
   "cell_type": "markdown",
   "metadata": {
    "colab_type": "text",
    "id": "cnARtMkIAOP0",
    "slideshow": {
     "slide_type": "slide"
    }
   },
   "source": [
    "## Biểu thức logic đơn\n",
    "Là biểu thức chỉ gồm 1 phép toán so sánh.\n",
    "\n",
    "Các phép toán so sánh trong python gồm :\n",
    "- `>` (lớn hơn), `<` (bé hơn), `>=` (lớn hơn hoặc bằng), `<=` (nhỏ hơn hoặc bằng)\n",
    "- `==` (so sánh bằng), `!=` (so sánh khác)"
   ]
  },
  {
   "cell_type": "code",
   "execution_count": 11,
   "metadata": {
    "colab": {
     "base_uri": "https://localhost:8080/",
     "height": 34
    },
    "colab_type": "code",
    "executionInfo": {
     "elapsed": 2026,
     "status": "ok",
     "timestamp": 1574693272123,
     "user": {
      "displayName": "Thành Văn Lê",
      "photoUrl": "https://lh3.googleusercontent.com/a-/AAuE7mAgUkQ2GE-tsxoWEYe_U05qJtOKvxJIpQHtrRap=s64",
      "userId": "01710290652638436201"
     },
     "user_tz": -420
    },
    "id": "e2u1GJFNCFWH",
    "outputId": "2bb7bf6b-0223-4b73-9e80-046b2cfbc1ff",
    "slideshow": {
     "slide_type": "subslide"
    }
   },
   "outputs": [
    {
     "data": {
      "text/plain": [
       "True"
      ]
     },
     "execution_count": 11,
     "metadata": {},
     "output_type": "execute_result"
    }
   ],
   "source": [
    "5 != 3"
   ]
  },
  {
   "cell_type": "code",
   "execution_count": 13,
   "metadata": {
    "colab": {
     "base_uri": "https://localhost:8080/",
     "height": 51
    },
    "colab_type": "code",
    "executionInfo": {
     "elapsed": 3830,
     "status": "ok",
     "timestamp": 1574693369156,
     "user": {
      "displayName": "Thành Văn Lê",
      "photoUrl": "https://lh3.googleusercontent.com/a-/AAuE7mAgUkQ2GE-tsxoWEYe_U05qJtOKvxJIpQHtrRap=s64",
      "userId": "01710290652638436201"
     },
     "user_tz": -420
    },
    "id": "o0HnaYCuCLr9",
    "outputId": "e8486f20-f2f1-4a2e-88ef-451bd0887438",
    "slideshow": {
     "slide_type": "subslide"
    }
   },
   "outputs": [
    {
     "name": "stdout",
     "output_type": "stream",
     "text": [
      "Nhập c 10\n",
      "True\n"
     ]
    }
   ],
   "source": [
    "c = int(input('Nhập c '))\n",
    "t = (c > 2)\n",
    "print(t)"
   ]
  },
  {
   "cell_type": "markdown",
   "metadata": {
    "colab_type": "text",
    "id": "5pj2iOurBYCw",
    "slideshow": {
     "slide_type": "slide"
    }
   },
   "source": [
    "## Biểu thức logic ghép\n",
    "Là các biểu thức đơn được kết nối với nhau bằng dấu ngoặc `()` và các toán tử logic.\n",
    "\n",
    "Các toán tử logic trong python gồm :\n",
    "- `and` : phép và (phép hợp)\n",
    "- `or` : phép hoặc (phép tuyển)\n",
    "- `not` : phép phủ định"
   ]
  },
  {
   "cell_type": "code",
   "execution_count": 13,
   "metadata": {
    "colab": {
     "base_uri": "https://localhost:8080/",
     "height": 34
    },
    "colab_type": "code",
    "executionInfo": {
     "elapsed": 1301,
     "status": "ok",
     "timestamp": 1574693398000,
     "user": {
      "displayName": "Thành Văn Lê",
      "photoUrl": "https://lh3.googleusercontent.com/a-/AAuE7mAgUkQ2GE-tsxoWEYe_U05qJtOKvxJIpQHtrRap=s64",
      "userId": "01710290652638436201"
     },
     "user_tz": -420
    },
    "id": "zpFATiuZ_WxK",
    "outputId": "af307fa1-ca08-40aa-ba42-4c444a16d650",
    "slideshow": {
     "slide_type": "subslide"
    }
   },
   "outputs": [
    {
     "data": {
      "text/plain": [
       "False"
      ]
     },
     "execution_count": 13,
     "metadata": {
      "tags": []
     },
     "output_type": "execute_result"
    }
   ],
   "source": [
    "(1 > 2) and (3 != 5)"
   ]
  },
  {
   "cell_type": "code",
   "execution_count": 14,
   "metadata": {
    "colab": {
     "base_uri": "https://localhost:8080/",
     "height": 34
    },
    "colab_type": "code",
    "executionInfo": {
     "elapsed": 774,
     "status": "ok",
     "timestamp": 1574693413259,
     "user": {
      "displayName": "Thành Văn Lê",
      "photoUrl": "https://lh3.googleusercontent.com/a-/AAuE7mAgUkQ2GE-tsxoWEYe_U05qJtOKvxJIpQHtrRap=s64",
      "userId": "01710290652638436201"
     },
     "user_tz": -420
    },
    "id": "X_s9rZ8hCkxU",
    "outputId": "5e00d03a-4d59-4ec6-cc72-98140b837554",
    "slideshow": {
     "slide_type": "subslide"
    }
   },
   "outputs": [
    {
     "data": {
      "text/plain": [
       "True"
      ]
     },
     "execution_count": 14,
     "metadata": {
      "tags": []
     },
     "output_type": "execute_result"
    }
   ],
   "source": [
    "(1 > 2) or (3 != 5)"
   ]
  },
  {
   "cell_type": "code",
   "execution_count": 16,
   "metadata": {
    "colab": {
     "base_uri": "https://localhost:8080/",
     "height": 34
    },
    "colab_type": "code",
    "executionInfo": {
     "elapsed": 1144,
     "status": "ok",
     "timestamp": 1574693430403,
     "user": {
      "displayName": "Thành Văn Lê",
      "photoUrl": "https://lh3.googleusercontent.com/a-/AAuE7mAgUkQ2GE-tsxoWEYe_U05qJtOKvxJIpQHtrRap=s64",
      "userId": "01710290652638436201"
     },
     "user_tz": -420
    },
    "id": "_OSCs8o4Cp3j",
    "outputId": "7a07c756-05f0-4782-9e4e-d1c6460cbbf4",
    "slideshow": {
     "slide_type": "subslide"
    }
   },
   "outputs": [
    {
     "data": {
      "text/plain": [
       "True"
      ]
     },
     "execution_count": 16,
     "metadata": {
      "tags": []
     },
     "output_type": "execute_result"
    }
   ],
   "source": [
    "not (1 > 2)"
   ]
  },
  {
   "cell_type": "markdown",
   "metadata": {},
   "source": [
    "## Một số điểm riêng của python"
   ]
  },
  {
   "cell_type": "markdown",
   "metadata": {
    "colab_type": "text",
    "id": "91t13aIWC0yh",
    "slideshow": {
     "slide_type": "slide"
    }
   },
   "source": [
    "Python có quy ước các giá trị 0, `''` (chuỗi rỗng), `None` được ngầm hiểu là False. Tuy nhiên, điều này chỉ áp dụng cho điều kiện trong câu rẽ nhánh."
   ]
  },
  {
   "cell_type": "code",
   "execution_count": 17,
   "metadata": {
    "colab": {
     "base_uri": "https://localhost:8080/",
     "height": 34
    },
    "colab_type": "code",
    "executionInfo": {
     "elapsed": 1156,
     "status": "ok",
     "timestamp": 1574693636219,
     "user": {
      "displayName": "Thành Văn Lê",
      "photoUrl": "https://lh3.googleusercontent.com/a-/AAuE7mAgUkQ2GE-tsxoWEYe_U05qJtOKvxJIpQHtrRap=s64",
      "userId": "01710290652638436201"
     },
     "user_tz": -420
    },
    "id": "k2fmcMK7CsM2",
    "outputId": "bf63669d-daa8-4830-bfb4-e03f13e35c32",
    "slideshow": {
     "slide_type": "subslide"
    }
   },
   "outputs": [
    {
     "data": {
      "text/plain": [
       "True"
      ]
     },
     "execution_count": 17,
     "metadata": {
      "tags": []
     },
     "output_type": "execute_result"
    }
   ],
   "source": [
    "not 0"
   ]
  },
  {
   "cell_type": "code",
   "execution_count": 18,
   "metadata": {
    "colab": {
     "base_uri": "https://localhost:8080/",
     "height": 34
    },
    "colab_type": "code",
    "executionInfo": {
     "elapsed": 1381,
     "status": "ok",
     "timestamp": 1574693642034,
     "user": {
      "displayName": "Thành Văn Lê",
      "photoUrl": "https://lh3.googleusercontent.com/a-/AAuE7mAgUkQ2GE-tsxoWEYe_U05qJtOKvxJIpQHtrRap=s64",
      "userId": "01710290652638436201"
     },
     "user_tz": -420
    },
    "id": "xsJj4MAKDgNQ",
    "outputId": "d7427e2b-921e-4d73-e50e-cffb6d981fb4",
    "slideshow": {
     "slide_type": "subslide"
    }
   },
   "outputs": [
    {
     "data": {
      "text/plain": [
       "True"
      ]
     },
     "execution_count": 18,
     "metadata": {
      "tags": []
     },
     "output_type": "execute_result"
    }
   ],
   "source": [
    "not ''"
   ]
  },
  {
   "cell_type": "code",
   "execution_count": 19,
   "metadata": {
    "colab": {
     "base_uri": "https://localhost:8080/",
     "height": 34
    },
    "colab_type": "code",
    "executionInfo": {
     "elapsed": 1041,
     "status": "ok",
     "timestamp": 1574693649650,
     "user": {
      "displayName": "Thành Văn Lê",
      "photoUrl": "https://lh3.googleusercontent.com/a-/AAuE7mAgUkQ2GE-tsxoWEYe_U05qJtOKvxJIpQHtrRap=s64",
      "userId": "01710290652638436201"
     },
     "user_tz": -420
    },
    "id": "wTh3DsgNDhd7",
    "outputId": "8a7c5528-59dc-4b07-9cad-1caa13e7e4bf",
    "slideshow": {
     "slide_type": "subslide"
    }
   },
   "outputs": [
    {
     "data": {
      "text/plain": [
       "True"
      ]
     },
     "execution_count": 19,
     "metadata": {
      "tags": []
     },
     "output_type": "execute_result"
    }
   ],
   "source": [
    "not None"
   ]
  },
  {
   "cell_type": "markdown",
   "metadata": {},
   "source": [
    "Python cho phép bạn viết một số biểu thức logic dưới dạng rút gọn. Ví dụ `(1 < a) and (a < 2)` có thể viết thành `1 < a < 2`."
   ]
  },
  {
   "cell_type": "code",
   "execution_count": 8,
   "metadata": {},
   "outputs": [
    {
     "name": "stdout",
     "output_type": "stream",
     "text": [
      "Nhập e 4\n"
     ]
    },
    {
     "data": {
      "text/plain": [
       "True"
      ]
     },
     "execution_count": 8,
     "metadata": {},
     "output_type": "execute_result"
    }
   ],
   "source": [
    "e = int(input('Nhập e '))\n",
    "1 < e < 5"
   ]
  },
  {
   "cell_type": "markdown",
   "metadata": {
    "colab_type": "text",
    "id": "w0pAqEjlEFbo",
    "slideshow": {
     "slide_type": "slide"
    }
   },
   "source": [
    "# Phép gán có điều kiện"
   ]
  },
  {
   "cell_type": "markdown",
   "metadata": {
    "colab_type": "text",
    "id": "d-DXj_HvEPh3",
    "slideshow": {
     "slide_type": "slide"
    }
   },
   "source": [
    "Giả sử chúng ta có một biến `x`, chúng ta muốn gán giá trị cho `x` tuỳ thuộc một điều kiện nào đó. Về cơ bản, chúng ta có thể viết như sau\n",
    "```\n",
    "if <điều_kiện> :\n",
    "    x = <giá_trị_khi_điều_kiện_đúng>\n",
    "else :\n",
    "    x = <giá_trị_khi_điều_kiện_sai>\n",
    "```"
   ]
  },
  {
   "cell_type": "markdown",
   "metadata": {
    "colab_type": "text",
    "id": "NmZa0w5AFdwK",
    "slideshow": {
     "slide_type": "subslide"
    }
   },
   "source": [
    "Trong nhiều ngôn ngữ lập trình, người ta thay thế đoạn trên bằng 1 cú pháp gán đặc biệt được gọi là phép gán có điều kiện.\n",
    "\n",
    "Phép gán có điều kiện trong python được viết như sau:\n",
    "```\n",
    "<tên_biến> = <giá_trị_khi_đúng> if <điều_kiện> else <giá_trị_khi_sai>\n",
    "```\n",
    "và đọc hiểu là `tên_biến` sẽ có `giá_trị_khi_đúng` nếu `điều_kiện` được thoả, còn không sẽ có `giá_trị_khi_sai`."
   ]
  },
  {
   "cell_type": "code",
   "execution_count": 14,
   "metadata": {
    "colab": {
     "base_uri": "https://localhost:8080/",
     "height": 34
    },
    "colab_type": "code",
    "executionInfo": {
     "elapsed": 1308,
     "status": "ok",
     "timestamp": 1574694398136,
     "user": {
      "displayName": "Thành Văn Lê",
      "photoUrl": "https://lh3.googleusercontent.com/a-/AAuE7mAgUkQ2GE-tsxoWEYe_U05qJtOKvxJIpQHtrRap=s64",
      "userId": "01710290652638436201"
     },
     "user_tz": -420
    },
    "id": "tudGGwYVDjWF",
    "outputId": "09bc7624-1d04-42d0-d651-d8f9b02007d0",
    "slideshow": {
     "slide_type": "subslide"
    }
   },
   "outputs": [
    {
     "name": "stdout",
     "output_type": "stream",
     "text": [
      "2\n"
     ]
    }
   ],
   "source": [
    "# ví dụ\n",
    "d = 1 if (1 > 2) else 2\n",
    "print(d)"
   ]
  },
  {
   "cell_type": "code",
   "execution_count": 0,
   "metadata": {
    "colab": {},
    "colab_type": "code",
    "id": "WiFK6PaiGXSJ"
   },
   "outputs": [],
   "source": []
  }
 ],
 "metadata": {
  "celltoolbar": "Slideshow",
  "colab": {
   "name": "Cấu trúc rẽ nhánh",
   "provenance": []
  },
  "kernelspec": {
   "display_name": "Python 3",
   "language": "python",
   "name": "python3"
  },
  "language_info": {
   "codemirror_mode": {
    "name": "ipython",
    "version": 3
   },
   "file_extension": ".py",
   "mimetype": "text/x-python",
   "name": "python",
   "nbconvert_exporter": "python",
   "pygments_lexer": "ipython3",
   "version": "3.7.2"
  }
 },
 "nbformat": 4,
 "nbformat_minor": 1
}
