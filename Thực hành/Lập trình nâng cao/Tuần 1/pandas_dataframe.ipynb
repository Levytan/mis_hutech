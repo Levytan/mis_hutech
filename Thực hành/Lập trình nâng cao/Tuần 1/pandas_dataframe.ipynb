{
  "nbformat": 4,
  "nbformat_minor": 0,
  "metadata": {
    "colab": {
      "name": "pandas_dataframe",
      "provenance": []
    },
    "kernelspec": {
      "name": "python3",
      "display_name": "Python 3"
    }
  },
  "cells": [
    {
      "cell_type": "markdown",
      "metadata": {
        "id": "e5GMlNdhoIJW"
      },
      "source": [
        "Thực hiện ô dưới đây để tạo ra một `DataFrame` có tên là `df`.\r\n",
        "\r\n",
        "*Thông tin thêm*: đây là dữ liệu thống kê của kỳ Euro 2012. Mỗi dòng là một đôi tham dự. Mỗi cột là một thông tin được ghi nhận lại."
      ]
    },
    {
      "cell_type": "code",
      "metadata": {
        "id": "Lb40gB--oHqg"
      },
      "source": [
        "import pandas as pd\r\n",
        "\r\n",
        "df = pd.read_csv('https://raw.githubusercontent.com/guipsamora/pandas_exercises/master/02_Filtering_%26_Sorting/Euro12/Euro_2012_stats_TEAM.csv')"
      ],
      "execution_count": null,
      "outputs": []
    },
    {
      "cell_type": "markdown",
      "metadata": {
        "id": "2FBRPQjgodNA"
      },
      "source": [
        "**Câu 1**: In ra số dòng và số cột của `df`."
      ]
    },
    {
      "cell_type": "code",
      "metadata": {
        "id": "fZEBb5G2oEXs"
      },
      "source": [
        ""
      ],
      "execution_count": null,
      "outputs": []
    },
    {
      "cell_type": "markdown",
      "metadata": {
        "id": "5WqJCq_DpQm8"
      },
      "source": [
        "**Câu 2**: In ra tên các cột của `df`."
      ]
    },
    {
      "cell_type": "code",
      "metadata": {
        "id": "C00hkDybpWrG"
      },
      "source": [
        ""
      ],
      "execution_count": null,
      "outputs": []
    },
    {
      "cell_type": "markdown",
      "metadata": {
        "id": "yFxs3m8fpgJs"
      },
      "source": [
        "**Câu 3**: In ra kiểu dữ liệu của các cột."
      ]
    },
    {
      "cell_type": "code",
      "metadata": {
        "id": "HWO2GVxgplWj"
      },
      "source": [
        ""
      ],
      "execution_count": null,
      "outputs": []
    },
    {
      "cell_type": "markdown",
      "metadata": {
        "id": "Lxj-ivlzpmNE"
      },
      "source": [
        "**Câu 4**: Lấy ra các cột `Team` (đội) và `Goals` (số bàn thắng) từ `df` và lưu vào biến `goals`."
      ]
    },
    {
      "cell_type": "code",
      "metadata": {
        "id": "Kgg9ADlvpl5n"
      },
      "source": [
        ""
      ],
      "execution_count": null,
      "outputs": []
    },
    {
      "cell_type": "markdown",
      "metadata": {
        "id": "6nHLX537p8T1"
      },
      "source": [
        "**Câu 5**: In ra đội có nhiều bàn thắng nhất, ít bàn thắng nhất (dùng DataFrame `goals` ở câu 4)\r\n",
        "\r\n",
        "*Gợi ý*: dùng `.sort_values()` và `.iloc[]`."
      ]
    },
    {
      "cell_type": "code",
      "metadata": {
        "id": "I5l_EZ_7qWW3"
      },
      "source": [
        ""
      ],
      "execution_count": null,
      "outputs": []
    },
    {
      "cell_type": "markdown",
      "metadata": {
        "id": "ohILl8Zbqe78"
      },
      "source": [
        "**Câu 5**: In ra số bàn thắng trung bình."
      ]
    },
    {
      "cell_type": "code",
      "metadata": {
        "id": "kgLzX3Nfqj8B"
      },
      "source": [
        ""
      ],
      "execution_count": null,
      "outputs": []
    },
    {
      "cell_type": "markdown",
      "metadata": {
        "id": "lyqxVAkGqmzE"
      },
      "source": [
        "**Câu 6**: Lấy ra các cột `Team`, `Yellow Cards` và `Red Cards` từ `df` và lưu vào biến `cards`."
      ]
    },
    {
      "cell_type": "code",
      "metadata": {
        "id": "mjMD-EZArLLd"
      },
      "source": [
        ""
      ],
      "execution_count": null,
      "outputs": []
    },
    {
      "cell_type": "markdown",
      "metadata": {
        "id": "alM_2CB9rMC2"
      },
      "source": [
        "**Câu 7**: Đổi tên các cột của `cards` thành `'team'`, `'yellow_cards'` và `'red_cards'`."
      ]
    },
    {
      "cell_type": "code",
      "metadata": {
        "id": "u3C3itHBrfVp"
      },
      "source": [
        ""
      ],
      "execution_count": null,
      "outputs": []
    },
    {
      "cell_type": "markdown",
      "metadata": {
        "id": "FU8Y6m3ZrgWc"
      },
      "source": [
        "**Câu 8**: In ra đội nhận nhiều thẻ vàng nhất."
      ]
    },
    {
      "cell_type": "code",
      "metadata": {
        "id": "DsTilWpDrmB5"
      },
      "source": [
        ""
      ],
      "execution_count": null,
      "outputs": []
    },
    {
      "cell_type": "markdown",
      "metadata": {
        "id": "LNJtiR3BrnIO"
      },
      "source": [
        "**Câu 9**: In ra số lượng thẻ vàng trung bình."
      ]
    },
    {
      "cell_type": "code",
      "metadata": {
        "id": "K6qQRuxnrr_j"
      },
      "source": [
        ""
      ],
      "execution_count": null,
      "outputs": []
    },
    {
      "cell_type": "markdown",
      "metadata": {
        "id": "JcGF1m77rss9"
      },
      "source": [
        "**Câu 10**: In ra các đội bị nhận thẻ đỏ."
      ]
    },
    {
      "cell_type": "code",
      "metadata": {
        "id": "_eIXkBLDrxNc"
      },
      "source": [
        ""
      ],
      "execution_count": null,
      "outputs": []
    },
    {
      "cell_type": "markdown",
      "metadata": {
        "id": "PplD-7hirxxe"
      },
      "source": [
        "**Câu 11**: In ra các đội có số lượng thẻ vàng nhiều hơn số thẻ vàng trung bình (mà các đội phải nhận)."
      ]
    },
    {
      "cell_type": "code",
      "metadata": {
        "id": "HfO-4piSr-U0"
      },
      "source": [
        ""
      ],
      "execution_count": null,
      "outputs": []
    },
    {
      "cell_type": "markdown",
      "metadata": {
        "id": "RD5ki2RlsOhW"
      },
      "source": [
        "**Câu 12**: Sắp xếp `df` theo `'Shooting Accuracy'` tăng dần."
      ]
    },
    {
      "cell_type": "code",
      "metadata": {
        "id": "SRD_sUnbsYsI"
      },
      "source": [
        ""
      ],
      "execution_count": null,
      "outputs": []
    },
    {
      "cell_type": "markdown",
      "metadata": {
        "id": "W9lPMGPoseGM"
      },
      "source": [
        "**Câu 13**: In ra các đội có bàn thắng được ghi từ chấm phạt đền (thông tin về số bàn thắng ghi từ chấm phạt đền được ghi trong cột `'Penalty goals'`)"
      ]
    },
    {
      "cell_type": "code",
      "metadata": {
        "id": "c2s464CCs0rr"
      },
      "source": [
        ""
      ],
      "execution_count": null,
      "outputs": []
    },
    {
      "cell_type": "markdown",
      "metadata": {
        "id": "QngPYxN_tYA8"
      },
      "source": [
        "**Câu 14**: Trong số những đội có ít nhất 5 bàn thắng, đội nào có `'Shots on target'` lớn nhất, đội nào có `'Shots off target'` nhỏ nhất."
      ]
    },
    {
      "cell_type": "code",
      "metadata": {
        "id": "vHB3d6mlt5Q-"
      },
      "source": [
        ""
      ],
      "execution_count": null,
      "outputs": []
    }
  ]
}