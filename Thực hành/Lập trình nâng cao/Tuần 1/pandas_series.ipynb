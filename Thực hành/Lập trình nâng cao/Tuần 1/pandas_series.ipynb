{
  "nbformat": 4,
  "nbformat_minor": 0,
  "metadata": {
    "colab": {
      "name": "pandas series",
      "provenance": [],
      "collapsed_sections": []
    },
    "kernelspec": {
      "name": "python3",
      "display_name": "Python 3"
    }
  },
  "cells": [
    {
      "cell_type": "markdown",
      "metadata": {
        "id": "d6ciEC-tcjlI"
      },
      "source": [
        "Trong bài tập này, chúng ta sẽ làm một số bài tập về kiểu dữ liệu `Series` của `pandas`. "
      ]
    },
    {
      "cell_type": "code",
      "metadata": {
        "id": "-9Ho-9u7cft6"
      },
      "source": [
        "# import các thư viện cần thiết tại đây"
      ],
      "execution_count": null,
      "outputs": []
    },
    {
      "cell_type": "markdown",
      "metadata": {
        "id": "v1rudSDpdB08"
      },
      "source": [
        "**Câu 1**: Tạo một `Series` như sau với dữ liệu là `[10, 20, 15, 25, 18]`. Đặt tên là `s1`.\r\n"
      ]
    },
    {
      "cell_type": "code",
      "metadata": {
        "id": "XJBevpYxezz1"
      },
      "source": [
        ""
      ],
      "execution_count": null,
      "outputs": []
    },
    {
      "cell_type": "markdown",
      "metadata": {
        "id": "eW7gFUz4e16_"
      },
      "source": [
        "**Câu 2**: In ra các thông tin sau của `s1`: `size`, `ndim` và `dtype`."
      ]
    },
    {
      "cell_type": "code",
      "metadata": {
        "id": "J8fwVaN0fIhF"
      },
      "source": [
        ""
      ],
      "execution_count": null,
      "outputs": []
    },
    {
      "cell_type": "markdown",
      "metadata": {
        "id": "5IvVUh5NfWUl"
      },
      "source": [
        "**Câu 3**: Đổi label (index) của `s1` thành `['a', 'b', 'c', 'd', 'e']`"
      ]
    },
    {
      "cell_type": "code",
      "metadata": {
        "id": "4XgYOfIAfiFr"
      },
      "source": [
        ""
      ],
      "execution_count": null,
      "outputs": []
    },
    {
      "cell_type": "markdown",
      "metadata": {
        "id": "q2C6Zoz4fi4s"
      },
      "source": [
        "**Câu 4**: Dùng `pd.date_range()` để tạo một mảng thời điểm với các yêu cầu sau:\r\n",
        "* Bắt đầu từ ngày 2018-10-01.\r\n",
        "* Kết thúc **trước** ngày 2018-11-01.\r\n",
        "* `freq='B'`, tức là chỉ lấy các ngày từ thứ hai đến thứ sáu.\r\n",
        "\r\n",
        "Đặt tên cho mảng thời điểm trên là `oct`."
      ]
    },
    {
      "cell_type": "code",
      "metadata": {
        "id": "YmOixprLhcmn"
      },
      "source": [
        ""
      ],
      "execution_count": null,
      "outputs": []
    },
    {
      "cell_type": "markdown",
      "metadata": {
        "id": "rcuCWwKKiYAt"
      },
      "source": [
        "**Câu 5**: Dùng hàm [`numpy.random.randint()`](https://docs.scipy.org/doc/numpy-1.15.1/reference/generated/numpy.random.randint.html) để tạo ra một mảng số với giá trị ngẫu nhiên từ 1 - 1000 với độ dài bằng với độ dài của mảng thời điểm `oct`. Đặt tên cho mảng vừa tạo là `data`.\r\n",
        "\r\n",
        "*Gợi ý*: dùng hàm `len()` để tìm độ dài của `oct`."
      ]
    },
    {
      "cell_type": "code",
      "metadata": {
        "id": "9dkbVEOsjIlY"
      },
      "source": [
        ""
      ],
      "execution_count": null,
      "outputs": []
    },
    {
      "cell_type": "markdown",
      "metadata": {
        "id": "4ZTFuQKMjOL-"
      },
      "source": [
        "**Câu 6**: Tạo ra time series từ `oct` (câu 4) và `data` (câu 5). Đặt tên là `random_series`."
      ]
    },
    {
      "cell_type": "code",
      "metadata": {
        "id": "4h7D3GORjNW9"
      },
      "source": [
        ""
      ],
      "execution_count": null,
      "outputs": []
    },
    {
      "cell_type": "markdown",
      "metadata": {
        "id": "DiJy2zFajc4I"
      },
      "source": [
        "**Câu 7**: In ra giá trị lớn nhất, nhỏ nhất trong `random_series`."
      ]
    },
    {
      "cell_type": "code",
      "metadata": {
        "id": "MgKqt6Kujs7z"
      },
      "source": [
        ""
      ],
      "execution_count": null,
      "outputs": []
    },
    {
      "cell_type": "markdown",
      "metadata": {
        "id": "m6nzSN3Hjxpl"
      },
      "source": [
        "**Câu 8**: In ra tổng các giá trị và giá trị trung bình của các phần tử trong `random_series`."
      ]
    }
  ]
}