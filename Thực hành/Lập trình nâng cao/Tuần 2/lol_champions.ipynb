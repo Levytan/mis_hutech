{
  "nbformat": 4,
  "nbformat_minor": 0,
  "metadata": {
    "colab": {
      "name": "lol_champions",
      "provenance": []
    },
    "kernelspec": {
      "name": "python3",
      "display_name": "Python 3"
    }
  },
  "cells": [
    {
      "cell_type": "markdown",
      "metadata": {
        "id": "tw9URxpylcIK"
      },
      "source": [
        "## Giới thiệu\r\n",
        "Trong bài thực hành này, chúng ta sẽ thực hành kỹ năng đọc, chuyển đổi kiểu dữ liệu của `DataFrame` (kèm một số kỹ năng khác)."
      ]
    },
    {
      "cell_type": "markdown",
      "metadata": {
        "id": "v1THXEVkl99E"
      },
      "source": [
        "## Dữ liệu\r\n",
        "Dữ liệu của bài thực hành này được tổng hợp từ [trang wiki](https://leagueoflegends.fandom.com/wiki/League_of_Legends_Wiki) của trò chơi Liên minh Huyền thoại. (*cập nhật ngày 23-12-2020*)\r\n",
        "\r\n",
        "Dữ liệu này được lưu tại đường dẫn https://raw.githubusercontent.com/Levytan/mis_hutech/master/data/lol_champions.csv\r\n",
        "\r\n",
        "Dữ liệu bao gồm các cột:\r\n",
        "* `champion`: tên của tướng.\r\n",
        "* `title`: danh hiệu tướng.\r\n",
        "* `primary`: phân lớp chính.\r\n",
        "* `secondary`: phân lớp phụ.\r\n",
        "* `release_date`: ngày ra mắt.\r\n",
        "* `base_attack`: tấn công cơ bản.\r\n",
        "* `base_health`: máu cơ bản."
      ]
    },
    {
      "cell_type": "markdown",
      "metadata": {
        "id": "TYjZXrd1m_UM"
      },
      "source": [
        "## Phần 1: Đọc và chuyển đổi dữ liệu\r\n",
        "Phần này ôn lại cách dùng của:\r\n",
        "* Hàm `pd.read_csv()`, `pd.to_datetime()` và `pd.to_numeric()`.\r\n",
        "* Accessor `.str`.\r\n",
        "* Phương thức `.assign()` của `DataFrame`.\r\n",
        "* Cùng một số hàm và phương thức khác."
      ]
    },
    {
      "cell_type": "code",
      "metadata": {
        "id": "H37SSHgin1qT"
      },
      "source": [
        "# import tại đây"
      ],
      "execution_count": null,
      "outputs": []
    },
    {
      "cell_type": "markdown",
      "metadata": {
        "id": "QoY6X8lPnEkS"
      },
      "source": [
        "**Câu 1**: Mở đường dẫn dữ liệu ở trên và xem xét cẩn thận. Sau đó, dùng `pd.read_csv()` với các tham số phù hợp để đọc dữ liệu. Lưu dữ liệu đọc được với tên `data`."
      ]
    },
    {
      "cell_type": "code",
      "metadata": {
        "id": "GuFimi73lN51"
      },
      "source": [
        ""
      ],
      "execution_count": null,
      "outputs": []
    },
    {
      "cell_type": "markdown",
      "metadata": {
        "id": "nyTVbV47oB1m"
      },
      "source": [
        "**Câu 2**: In ra kiểu dữ liệu của các cột trong `data`.\r\n"
      ]
    },
    {
      "cell_type": "code",
      "metadata": {
        "id": "Q_kXA8ymoKE4"
      },
      "source": [
        ""
      ],
      "execution_count": null,
      "outputs": []
    },
    {
      "cell_type": "markdown",
      "metadata": {
        "id": "mr5slj6JoKwZ"
      },
      "source": [
        "**Câu 3**: Thực hiện chuyển đổi kiểu dữ liệu (nếu cần) cho các cột `release_date`, `base_attack` và `base_health` về kiểu dữ liệu phù hợp."
      ]
    },
    {
      "cell_type": "code",
      "metadata": {
        "id": "XCTUuXMVodSI"
      },
      "source": [
        ""
      ],
      "execution_count": null,
      "outputs": []
    },
    {
      "cell_type": "markdown",
      "metadata": {
        "id": "gjjAI21sohwq"
      },
      "source": [
        "**Câu 4**: In lại kiểu dữ liệu của các cột trong `data` để kiểm tra việc chuyển dữ liệu."
      ]
    },
    {
      "cell_type": "code",
      "metadata": {
        "id": "VmR6JExeozdv"
      },
      "source": [
        ""
      ],
      "execution_count": null,
      "outputs": []
    },
    {
      "cell_type": "markdown",
      "metadata": {
        "id": "ZLCm8fxQp5Zi"
      },
      "source": [
        "## Phần 2: Một số thao tác với `DataFrame`.\r\n",
        "Phần này ôn lại các thao tác cơ bản trong `DataFrame`."
      ]
    },
    {
      "cell_type": "markdown",
      "metadata": {
        "id": "7yyW_Ruyqh2p"
      },
      "source": [
        "**Câu 5**: In ra số lượng tướng có trong `data`."
      ]
    },
    {
      "cell_type": "code",
      "metadata": {
        "id": "51WeydMiqFSy"
      },
      "source": [
        ""
      ],
      "execution_count": null,
      "outputs": []
    },
    {
      "cell_type": "markdown",
      "metadata": {
        "id": "XW7Zw9Bhq3ZA"
      },
      "source": [
        "**Câu 6**: In ra các tướng ra mắt trong năm 2020. \r\n",
        "\r\n",
        "*Gợi ý*: có thể dùng accessor `.dt` và thuộc tính `.year` của kiểu thời gian."
      ]
    },
    {
      "cell_type": "code",
      "metadata": {
        "id": "JioRCrgorIJo"
      },
      "source": [
        ""
      ],
      "execution_count": null,
      "outputs": []
    },
    {
      "cell_type": "markdown",
      "metadata": {
        "id": "sQni6HPRrfff"
      },
      "source": [
        "**Câu 7**: In ra ngày ra mắt của các tướng có phân lớp chính là `'Marksman'`."
      ]
    },
    {
      "cell_type": "code",
      "metadata": {
        "id": "eRuDnmRjrxX_"
      },
      "source": [
        ""
      ],
      "execution_count": null,
      "outputs": []
    },
    {
      "cell_type": "markdown",
      "metadata": {
        "id": "kg9juPGSr0hf"
      },
      "source": [
        "**Câu 8**: In ra những tướng có tên bắt đầu bằng chữ `'N'`.\r\n",
        "\r\n",
        "*Gợi ý*: dùng `.str.startswith()`.\r\n"
      ]
    },
    {
      "cell_type": "code",
      "metadata": {
        "id": "_LqRLqohsow0"
      },
      "source": [
        ""
      ],
      "execution_count": null,
      "outputs": []
    },
    {
      "cell_type": "markdown",
      "metadata": {
        "id": "wBtT7n74syVv"
      },
      "source": [
        "**Câu 9**: In ra những tướng có dấu nháy đơn `'` trong tên.\r\n",
        "\r\n",
        "*Gợi ý*: dùng `.str.find()`. "
      ]
    },
    {
      "cell_type": "code",
      "metadata": {
        "id": "jSPWNjH1tyo2"
      },
      "source": [
        ""
      ],
      "execution_count": null,
      "outputs": []
    },
    {
      "cell_type": "markdown",
      "metadata": {
        "id": "KXO7F6owtLNJ"
      },
      "source": [
        "**Câu 10**: In ra những tướng không có từ `'the'` trong danh hiệu."
      ]
    },
    {
      "cell_type": "code",
      "metadata": {
        "id": "DSQUkc8ttUEG"
      },
      "source": [
        ""
      ],
      "execution_count": null,
      "outputs": []
    },
    {
      "cell_type": "markdown",
      "metadata": {
        "id": "GzEDPo58tXJm"
      },
      "source": [
        "**Câu 11**: Lấy ra những tướng có cùng phân loại chính với **Yasuo**."
      ]
    },
    {
      "cell_type": "code",
      "metadata": {
        "id": "K6p40DxItlHA"
      },
      "source": [
        ""
      ],
      "execution_count": null,
      "outputs": []
    },
    {
      "cell_type": "markdown",
      "metadata": {
        "id": "92t_adSHtoko"
      },
      "source": [
        "**Câu 12**: Lấy ra tướng `'Assassin'` mới ngất được ra mắt."
      ]
    },
    {
      "cell_type": "code",
      "metadata": {
        "id": "p_iDVjg_uJSh"
      },
      "source": [
        ""
      ],
      "execution_count": null,
      "outputs": []
    },
    {
      "cell_type": "markdown",
      "metadata": {
        "id": "ts_D4MO_uLM_"
      },
      "source": [
        "**Câu 13**: Có bao nhiêu phân loại chính?\r\n",
        "\r\n",
        "*Gợi ý*: dùng phương thức `.nunique()`."
      ]
    },
    {
      "cell_type": "code",
      "metadata": {
        "id": "fvm5ACazumxa"
      },
      "source": [
        ""
      ],
      "execution_count": null,
      "outputs": []
    },
    {
      "cell_type": "markdown",
      "metadata": {
        "id": "w8vPA98Wunr2"
      },
      "source": [
        "**Câu 14**: Có bao nhiêu tướng có phân loại phụ?\r\n",
        "\r\n",
        "*Gợi ý*: dùng phương thức `.count()`"
      ]
    },
    {
      "cell_type": "code",
      "metadata": {
        "id": "0hkB6USruuI-"
      },
      "source": [
        ""
      ],
      "execution_count": null,
      "outputs": []
    },
    {
      "cell_type": "markdown",
      "metadata": {
        "id": "1KeKqbYIvSLo"
      },
      "source": [
        "**Câu 15**: Sắp xếp `data` theo `base_attack` tăng dần."
      ]
    },
    {
      "cell_type": "code",
      "metadata": {
        "id": "gKHNEf4zw738"
      },
      "source": [
        ""
      ],
      "execution_count": null,
      "outputs": []
    },
    {
      "cell_type": "markdown",
      "metadata": {
        "id": "qVAsZk3gw7cG"
      },
      "source": [
        "**Câu 16**: In ra những tướng có `base_health` lớn hơn 600."
      ]
    },
    {
      "cell_type": "code",
      "metadata": {
        "id": "r_sxO5PlvQQg"
      },
      "source": [
        ""
      ],
      "execution_count": null,
      "outputs": []
    },
    {
      "cell_type": "markdown",
      "metadata": {
        "id": "YwADU43VvcN3"
      },
      "source": [
        "**Câu 17**: In ra tướng có `base_health` lớn nhất của phân lớp chính `'Juggernaut'`."
      ]
    },
    {
      "cell_type": "code",
      "metadata": {
        "id": "3GkpvZSnvbXs"
      },
      "source": [
        ""
      ],
      "execution_count": null,
      "outputs": []
    },
    {
      "cell_type": "markdown",
      "metadata": {
        "id": "hlAqJwpJv4Ju"
      },
      "source": [
        "**Câu 18**: In ra tướng có `base_attack` thấp nhất của phân lớp chính `'Marksman'`."
      ]
    },
    {
      "cell_type": "code",
      "metadata": {
        "id": "vVivRNTtwRqB"
      },
      "source": [
        ""
      ],
      "execution_count": null,
      "outputs": []
    },
    {
      "cell_type": "markdown",
      "metadata": {
        "id": "jqmQKle_wRQm"
      },
      "source": [
        "**Câu 19**: In ra `base_attack` và `base_health` trung bình của các tướng thuộc phân lớp chính `'Skirmisher'`."
      ]
    },
    {
      "cell_type": "code",
      "metadata": {
        "id": "MTrjxfQGwrYd"
      },
      "source": [
        ""
      ],
      "execution_count": null,
      "outputs": []
    },
    {
      "cell_type": "markdown",
      "metadata": {
        "id": "KUHKF8PVu4g-"
      },
      "source": [
        "**Câu 20**: Đổi kiểu dữ liệu cột `primary` và `secondary` sang kiểu `'category'`.\r\n",
        "\r\n",
        "*Gợi ý*: dùng `.astype('category')` và `.assign()`."
      ]
    },
    {
      "cell_type": "code",
      "metadata": {
        "id": "ZIwhGD2NxJh4"
      },
      "source": [
        ""
      ],
      "execution_count": null,
      "outputs": []
    }
  ]
}
