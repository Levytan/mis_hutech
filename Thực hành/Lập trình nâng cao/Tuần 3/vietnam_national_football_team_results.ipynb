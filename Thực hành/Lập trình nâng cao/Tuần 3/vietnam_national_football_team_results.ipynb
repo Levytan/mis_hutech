{
  "nbformat": 4,
  "nbformat_minor": 0,
  "metadata": {
    "colab": {
      "name": "vietnam_national_football_team_results",
      "provenance": [],
      "collapsed_sections": []
    },
    "kernelspec": {
      "name": "python3",
      "display_name": "Python 3"
    }
  },
  "cells": [
    {
      "cell_type": "markdown",
      "metadata": {
        "id": "PJd2HaNDzDn5"
      },
      "source": [
        "# Giới thiệu\n",
        "Trong bài này, chúng ta sẽ thực hiện một số phân tích trên dữ liệu thành tích của Đội tuyển Quốc gia Việt Nam từ năm 2010 - 2019 (chỉ tính các trận đấu chính thức trong khuôn khổ của FIFA)."
      ]
    },
    {
      "cell_type": "markdown",
      "metadata": {
        "id": "SOFd-NeRzcfX"
      },
      "source": [
        "# Dữ liệu\n",
        "Dữ liệu của bài này được lấy từ [trang wiki](https://en.wikipedia.org/wiki/Vietnam_national_football_team_results) và được lưu trong file [`vietnam_football_results.csv`](https://raw.githubusercontent.com/Levytan/mis_hutech/master/data/vietnam_football_results.csv).\n",
        "\n",
        "Dữ liệu bao gồm các cột :\n",
        "- `date` : ngày diễn ra trận đấu.\n",
        "- `opponent` : đối thủ của đội tuyển Việt Nam.\n",
        "- `score` : tỷ số trận đấu (chỉ tính trong 90' thi đấu chính thức). Số bàn thắng của đội tuyển Việt Nam luôn viết trước.\n",
        "- `venue` : địa điểm tổ chức trân đấu.\n",
        "- `venue_type` : vị thế của Đội tuyển Việt Nam\n",
        "    - `H` : đá ở sân nhà.\n",
        "    - `A` : đá ở sân khách.\n",
        "    - `N` : đá ở sân trung lập.\n",
        "- `competition` : giải đấu mà Đội tuyển Việt Nam tham gia."
      ]
    },
    {
      "cell_type": "markdown",
      "metadata": {
        "id": "E0VeYIKm1j0w"
      },
      "source": [
        "# Bài tập"
      ]
    },
    {
      "cell_type": "markdown",
      "metadata": {
        "id": "iTQJ33kC1mry"
      },
      "source": [
        "**Câu 1** : Đọc dữ liệu vào `DataFrame`."
      ]
    },
    {
      "cell_type": "code",
      "metadata": {
        "id": "atfWBNCpy4YO"
      },
      "source": [
        ""
      ],
      "execution_count": null,
      "outputs": []
    },
    {
      "cell_type": "markdown",
      "metadata": {
        "id": "o1lN-U1o1ymq"
      },
      "source": [
        "**Câu 2** : Kiểm tra kiểu dữ liệu các cột và thực hiện những chuyển đổi cần thiết."
      ]
    },
    {
      "cell_type": "code",
      "metadata": {
        "id": "rO0WKvMo2DOs"
      },
      "source": [
        ""
      ],
      "execution_count": null,
      "outputs": []
    },
    {
      "cell_type": "markdown",
      "metadata": {
        "id": "qNFzFnM02D_0"
      },
      "source": [
        "**Câu 3** : Đội tuyển Việt Nam đã thi đấu bao nhiêu trận trong giai đoạn 2010 - 2019, trong đó có bao nhiêu trận đá ở sân nhà, sân khách và sân trung lập."
      ]
    },
    {
      "cell_type": "code",
      "metadata": {
        "id": "QfzoKk_52nIR"
      },
      "source": [
        ""
      ],
      "execution_count": null,
      "outputs": []
    },
    {
      "cell_type": "markdown",
      "metadata": {
        "id": "4eMA7ONKbzfk"
      },
      "source": [
        "**Câu 4** : Trong các trận ở sân nhà, Đội tyển Việt Nam thi đấu ở bao nhiêu địa điểm khác nhau, in ra những địa điểm đó."
      ]
    },
    {
      "cell_type": "code",
      "metadata": {
        "id": "K8tBI4B0cFi2"
      },
      "source": [
        ""
      ],
      "execution_count": null,
      "outputs": []
    },
    {
      "cell_type": "markdown",
      "metadata": {
        "id": "ldILiLfu2pK5"
      },
      "source": [
        "**Câu 5**: Đội tuyển Việt Nam đã thi đấu trung bình bao nhiêu trận mỗi năm?"
      ]
    },
    {
      "cell_type": "code",
      "metadata": {
        "id": "vTD3I19329w8"
      },
      "source": [
        ""
      ],
      "execution_count": null,
      "outputs": []
    },
    {
      "cell_type": "markdown",
      "metadata": {
        "id": "qq7gFZWi2-ug"
      },
      "source": [
        "**Câu 6** : In ra số trận đội tuyển Việt Nam đá vào năm 2015."
      ]
    },
    {
      "cell_type": "code",
      "metadata": {
        "id": "TEZVo3m13JDY"
      },
      "source": [
        ""
      ],
      "execution_count": null,
      "outputs": []
    },
    {
      "cell_type": "markdown",
      "metadata": {
        "id": "PAY9ZZ9VWhQ0"
      },
      "source": [
        "**Câu 7** : Từ cột `score`, tạo ra hai cột mới lần lượt là :\n",
        "- `goal` : số bàn thắng Đội tuyển Việt Nam ghi được.\n",
        "- `conceded_goal` : số bàn bị thủng lưới của Đội tuyển Việt Nam.\n",
        "\n",
        "---\n",
        "_Gợi ý_ : dùng `.str.split('-')` để tách chuỗi từ `score`."
      ]
    },
    {
      "cell_type": "code",
      "metadata": {
        "id": "cz124Qj8XOU_"
      },
      "source": [
        ""
      ],
      "execution_count": null,
      "outputs": []
    },
    {
      "cell_type": "markdown",
      "metadata": {
        "id": "G2R-61yoXToO"
      },
      "source": [
        "**Câu 8** : In ra những trận mà đội tuyển Việt Nam ghi được nhiều bàn thắng nhất?"
      ]
    },
    {
      "cell_type": "code",
      "metadata": {
        "id": "WFXKGcKYXd8F"
      },
      "source": [
        ""
      ],
      "execution_count": null,
      "outputs": []
    },
    {
      "cell_type": "markdown",
      "metadata": {
        "id": "wY0dhqTvXfD7"
      },
      "source": [
        "**Câu 9** : Tính số bàn thắng trung bình của đội tuyển Việt Nam."
      ]
    },
    {
      "cell_type": "code",
      "metadata": {
        "id": "cMhtVsa_XuQo"
      },
      "source": [
        ""
      ],
      "execution_count": null,
      "outputs": []
    },
    {
      "cell_type": "markdown",
      "metadata": {
        "id": "8WjverVxXvDj"
      },
      "source": [
        "**Câu 10** : Tính tỷ lệ thắng của Đội tuyển Việt Nam."
      ]
    },
    {
      "cell_type": "code",
      "metadata": {
        "id": "V-WCvzV0X2vY"
      },
      "source": [
        ""
      ],
      "execution_count": null,
      "outputs": []
    },
    {
      "cell_type": "markdown",
      "metadata": {
        "id": "PYTaTwE_YBI-"
      },
      "source": [
        "**Câu 11** : Lấy ra các trận giao hữu trong khoảng thời gian trên. Biết rằng, các trận giao hữu được ghi là `'Friendly'` trong `competition`. "
      ]
    },
    {
      "cell_type": "code",
      "metadata": {
        "id": "wz5-w_lcZvnm"
      },
      "source": [
        ""
      ],
      "execution_count": null,
      "outputs": []
    },
    {
      "cell_type": "markdown",
      "metadata": {
        "id": "WpJ0QexTbADj"
      },
      "source": [
        "**Câu 12** : Tính tỷ lệ thắng của Đội tuyển Việt Nam trong các trận giao hữu."
      ]
    },
    {
      "cell_type": "code",
      "metadata": {
        "id": "yYztAH2gbLOq"
      },
      "source": [
        ""
      ],
      "execution_count": null,
      "outputs": []
    },
    {
      "cell_type": "markdown",
      "metadata": {
        "id": "fC74AQGGbY19"
      },
      "source": [
        "**Câu 13** : Số bàn thua trung bình trong các trận đấu **không phải** giao hữu."
      ]
    },
    {
      "cell_type": "code",
      "metadata": {
        "id": "cxwCmuHWbkrX"
      },
      "source": [
        ""
      ],
      "execution_count": null,
      "outputs": []
    }
  ]
}